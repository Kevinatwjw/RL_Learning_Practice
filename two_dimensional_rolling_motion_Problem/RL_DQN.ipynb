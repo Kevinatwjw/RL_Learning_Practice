{
 "cells": [
  {
   "cell_type": "markdown",
   "id": "4252c4d2",
   "metadata": {},
   "source": [
    "RollingBall:玩家（或智能体）通过施加力控制小球，从网格起点（[0.2*宽, 0.2*高]）移动到目标点（[0.8*宽, 0.8*高]）。\n",
    "\n",
    "核心特点：\n",
    "- **环境**：10x10 网格（可调），小球受力、摩擦（系数 0.0046）、边界碰撞（恢复系数 0.8）影响，速度上限 5.0。\n",
    "- **动作**：连续力（[-0.1, 0.1]），可离散化为 5x5 动作（[-0.8, -0.4, 0, 0.4, 0.8]）并展平为 25 个动作。\n",
    "- **奖励**：每步 -2.0，撞墙 -10.0，到达目标 +300.0。\n",
    "- **渲染**：Pygame 显示蓝色小球、紫色目标，可选灰色轨迹，300x300 像素窗口。"
   ]
  },
  {
   "cell_type": "code",
   "execution_count": null,
   "id": "93377cdd",
   "metadata": {},
   "outputs": [],
   "source": []
  }
 ],
 "metadata": {
  "kernelspec": {
   "display_name": "DL_pytorch_gpu",
   "language": "python",
   "name": "python3"
  },
  "language_info": {
   "name": "python",
   "version": "3.9.21"
  }
 },
 "nbformat": 4,
 "nbformat_minor": 5
}
