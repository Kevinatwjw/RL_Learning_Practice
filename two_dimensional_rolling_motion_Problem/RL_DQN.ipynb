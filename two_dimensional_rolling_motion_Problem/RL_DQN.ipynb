{
 "cells": [
  {
   "cell_type": "markdown",
   "id": "4252c4d2",
   "metadata": {},
   "source": [
    "RollingBall:玩家（或智能体）通过施加力控制小球，从网格起点（[0.2*宽, 0.2*高]）移动到目标点（[0.8*宽, 0.8*高]）。\n",
    "\n",
    "核心特点：\n",
    "- **环境**：10x10 网格（可调），小球受力、摩擦（系数 0.0046）、边界碰撞（恢复系数 0.8）影响，速度上限 5.0。\n",
    "- **动作**：连续力（[-0.1, 0.1]），可离散化为 5x5 动作（[-0.8, -0.4, 0, 0.4, 0.8]）并展平为 25 个动作。\n",
    "- **奖励**：每步 -2.0，撞墙 -10.0，到达目标 +300.0。\n",
    "- **渲染**：Pygame 显示蓝色小球、紫色目标，可选灰色轨迹，300x300 像素窗口。"
   ]
  },
  {
   "cell_type": "code",
   "execution_count": 11,
   "id": "93377cdd",
   "metadata": {},
   "outputs": [],
   "source": [
    "import numpy as np\n",
    "import random\n",
    "import torch\n",
    "import matplotlib.pyplot as plt\n",
    "from tqdm import tqdm\n",
    "import os\n",
    "from gym.utils.env_checker import check_env\n",
    "from RL_DQN_Class import DQN,ReplayBuffer,DoubleDQN\n",
    "from gym.wrappers import TimeLimit\n",
    "from two_dimensional_rolling_motion import RollingBall, DiscreteActionWrapper, FlattenActionSpaceWrapper"
   ]
  },
  {
   "cell_type": "code",
   "execution_count": 12,
   "id": "381e5f00",
   "metadata": {},
   "outputs": [
    {
     "name": "stderr",
     "output_type": "stream",
     "text": [
      "Iteration 0:   0%|          | 0/50 [00:00<?, ?it/s]\n"
     ]
    },
    {
     "ename": "UnboundLocalError",
     "evalue": "local variable 'reward' referenced before assignment",
     "output_type": "error",
     "traceback": [
      "\u001b[1;31m---------------------------------------------------------------------------\u001b[0m",
      "\u001b[1;31mUnboundLocalError\u001b[0m                         Traceback (most recent call last)",
      "Cell \u001b[1;32mIn[12], line 130\u001b[0m\n\u001b[0;32m    128\u001b[0m action \u001b[38;5;241m=\u001b[39m agent\u001b[38;5;241m.\u001b[39mtake_action(state)\n\u001b[0;32m    129\u001b[0m \u001b[38;5;66;03m# 使用 epsilon-greedy 策略选择动作\u001b[39;00m\n\u001b[1;32m--> 130\u001b[0m next_state, reward, terminated, truncated, _ \u001b[38;5;241m=\u001b[39m \u001b[43menv\u001b[49m\u001b[38;5;241;43m.\u001b[39;49m\u001b[43mstep\u001b[49m\u001b[43m(\u001b[49m\u001b[43maction\u001b[49m\u001b[43m)\u001b[49m\n\u001b[0;32m    131\u001b[0m \u001b[38;5;66;03m# 执行动作，获取结果\u001b[39;00m\n\u001b[0;32m    132\u001b[0m \n\u001b[0;32m    133\u001b[0m \u001b[38;5;66;03m# 更新回放缓冲区\u001b[39;00m\n\u001b[0;32m    134\u001b[0m replay_buffer\u001b[38;5;241m.\u001b[39madd(state, action, reward, next_state, done\u001b[38;5;241m=\u001b[39mterminated \u001b[38;5;129;01mor\u001b[39;00m truncated)\n",
      "File \u001b[1;32md:\\py\\Anaconda3\\envs\\DL_pytorch_gpu\\lib\\site-packages\\gym\\wrappers\\time_limit.py:50\u001b[0m, in \u001b[0;36mTimeLimit.step\u001b[1;34m(self, action)\u001b[0m\n\u001b[0;32m     39\u001b[0m \u001b[38;5;28;01mdef\u001b[39;00m\u001b[38;5;250m \u001b[39m\u001b[38;5;21mstep\u001b[39m(\u001b[38;5;28mself\u001b[39m, action):\n\u001b[0;32m     40\u001b[0m \u001b[38;5;250m    \u001b[39m\u001b[38;5;124;03m\"\"\"Steps through the environment and if the number of steps elapsed exceeds ``max_episode_steps`` then truncate.\u001b[39;00m\n\u001b[0;32m     41\u001b[0m \n\u001b[0;32m     42\u001b[0m \u001b[38;5;124;03m    Args:\u001b[39;00m\n\u001b[1;32m   (...)\u001b[0m\n\u001b[0;32m     48\u001b[0m \n\u001b[0;32m     49\u001b[0m \u001b[38;5;124;03m    \"\"\"\u001b[39;00m\n\u001b[1;32m---> 50\u001b[0m     observation, reward, terminated, truncated, info \u001b[38;5;241m=\u001b[39m \u001b[38;5;28;43mself\u001b[39;49m\u001b[38;5;241;43m.\u001b[39;49m\u001b[43menv\u001b[49m\u001b[38;5;241;43m.\u001b[39;49m\u001b[43mstep\u001b[49m\u001b[43m(\u001b[49m\u001b[43maction\u001b[49m\u001b[43m)\u001b[49m\n\u001b[0;32m     51\u001b[0m     \u001b[38;5;28mself\u001b[39m\u001b[38;5;241m.\u001b[39m_elapsed_steps \u001b[38;5;241m+\u001b[39m\u001b[38;5;241m=\u001b[39m \u001b[38;5;241m1\u001b[39m\n\u001b[0;32m     53\u001b[0m     \u001b[38;5;28;01mif\u001b[39;00m \u001b[38;5;28mself\u001b[39m\u001b[38;5;241m.\u001b[39m_elapsed_steps \u001b[38;5;241m>\u001b[39m\u001b[38;5;241m=\u001b[39m \u001b[38;5;28mself\u001b[39m\u001b[38;5;241m.\u001b[39m_max_episode_steps:\n",
      "File \u001b[1;32md:\\py\\Anaconda3\\envs\\DL_pytorch_gpu\\lib\\site-packages\\gym\\core.py:460\u001b[0m, in \u001b[0;36mActionWrapper.step\u001b[1;34m(self, action)\u001b[0m\n\u001b[0;32m    458\u001b[0m \u001b[38;5;28;01mdef\u001b[39;00m\u001b[38;5;250m \u001b[39m\u001b[38;5;21mstep\u001b[39m(\u001b[38;5;28mself\u001b[39m, action):\n\u001b[0;32m    459\u001b[0m \u001b[38;5;250m    \u001b[39m\u001b[38;5;124;03m\"\"\"Runs the environment :meth:`env.step` using the modified ``action`` from :meth:`self.action`.\"\"\"\u001b[39;00m\n\u001b[1;32m--> 460\u001b[0m     \u001b[38;5;28;01mreturn\u001b[39;00m \u001b[38;5;28;43mself\u001b[39;49m\u001b[38;5;241;43m.\u001b[39;49m\u001b[43menv\u001b[49m\u001b[38;5;241;43m.\u001b[39;49m\u001b[43mstep\u001b[49m\u001b[43m(\u001b[49m\u001b[38;5;28;43mself\u001b[39;49m\u001b[38;5;241;43m.\u001b[39;49m\u001b[43maction\u001b[49m\u001b[43m(\u001b[49m\u001b[43maction\u001b[49m\u001b[43m)\u001b[49m\u001b[43m)\u001b[49m\n",
      "File \u001b[1;32md:\\py\\Anaconda3\\envs\\DL_pytorch_gpu\\lib\\site-packages\\gym\\core.py:460\u001b[0m, in \u001b[0;36mActionWrapper.step\u001b[1;34m(self, action)\u001b[0m\n\u001b[0;32m    458\u001b[0m \u001b[38;5;28;01mdef\u001b[39;00m\u001b[38;5;250m \u001b[39m\u001b[38;5;21mstep\u001b[39m(\u001b[38;5;28mself\u001b[39m, action):\n\u001b[0;32m    459\u001b[0m \u001b[38;5;250m    \u001b[39m\u001b[38;5;124;03m\"\"\"Runs the environment :meth:`env.step` using the modified ``action`` from :meth:`self.action`.\"\"\"\u001b[39;00m\n\u001b[1;32m--> 460\u001b[0m     \u001b[38;5;28;01mreturn\u001b[39;00m \u001b[38;5;28;43mself\u001b[39;49m\u001b[38;5;241;43m.\u001b[39;49m\u001b[43menv\u001b[49m\u001b[38;5;241;43m.\u001b[39;49m\u001b[43mstep\u001b[49m\u001b[43m(\u001b[49m\u001b[38;5;28;43mself\u001b[39;49m\u001b[38;5;241;43m.\u001b[39;49m\u001b[43maction\u001b[49m\u001b[43m(\u001b[49m\u001b[43maction\u001b[49m\u001b[43m)\u001b[49m\u001b[43m)\u001b[49m\n",
      "File \u001b[1;32mf:\\Learning_project\\RL_Learning\\RL_Learning_Practice\\two_dimensional_rolling_motion_Problem\\two_dimensional_rolling_motion\\envs\\GridWorld.py:69\u001b[0m, in \u001b[0;36mRollingBall.step\u001b[1;34m(self, action)\u001b[0m\n\u001b[0;32m     67\u001b[0m \u001b[38;5;66;03m# 阶段性奖励\u001b[39;00m\n\u001b[0;32m     68\u001b[0m \u001b[38;5;28;01mif\u001b[39;00m \u001b[38;5;241m1.0\u001b[39m \u001b[38;5;241m<\u001b[39m\u001b[38;5;241m=\u001b[39m distance \u001b[38;5;241m<\u001b[39m \u001b[38;5;241m1.5\u001b[39m:\n\u001b[1;32m---> 69\u001b[0m     reward \u001b[38;5;241m+\u001b[39m\u001b[38;5;241m=\u001b[39m \u001b[38;5;241m1\u001b[39m\n\u001b[0;32m     70\u001b[0m \u001b[38;5;28;01melif\u001b[39;00m \u001b[38;5;241m0.5\u001b[39m \u001b[38;5;241m<\u001b[39m\u001b[38;5;241m=\u001b[39m distance \u001b[38;5;241m<\u001b[39m \u001b[38;5;241m1.0\u001b[39m:\n\u001b[0;32m     71\u001b[0m     reward \u001b[38;5;241m+\u001b[39m\u001b[38;5;241m=\u001b[39m \u001b[38;5;241m1.5\u001b[39m\n",
      "\u001b[1;31mUnboundLocalError\u001b[0m: local variable 'reward' referenced before assignment"
     ]
    }
   ],
   "source": [
    "if __name__ == \"__main__\":\n",
    "    def moving_average(a, window_size):\n",
    "        ''' 生成序列 a 的滑动平均序列 '''\n",
    "        # 计算滑动平均，平滑序列（如回合回报），便于绘图时观察趋势\n",
    "        # 参数：a（输入序列，如回报列表），window_size（窗口大小，后续设为 29）\n",
    "        cumulative_sum = np.cumsum(np.insert(a, 0, 0))\n",
    "        # 计算累积和，插入 0 便于差分计算窗口平均值\n",
    "        middle = (cumulative_sum[window_size:] - cumulative_sum[:-window_size]) / window_size\n",
    "        # 中间部分：通过累积和差分计算窗口平均值\n",
    "        r = np.arange(1, window_size-1, 2)\n",
    "        # 生成奇数序列 [1, 3, 5, ...]，用于处理开头和结尾的小窗口\n",
    "        begin = np.cumsum(a[:window_size-1])[::2] / r\n",
    "        # 开头部分：计算前 window_size-1 个元素的小窗口平均值\n",
    "        end = (np.cumsum(a[:-window_size:-1])[::2] / r)[::-1]\n",
    "        # 结尾部分：计算最后 window_size-1 个元素的反向小窗口平均值，翻转对齐\n",
    "        return np.concatenate((begin, middle, end))\n",
    "        # 拼接开头、中间、结尾，返回等长滑动平均序列\n",
    "\n",
    "    def set_seed(env, seed=42):\n",
    "        ''' 设置随机种子 '''\n",
    "        # 设置随机种子，确保环境和算法行为一致，实验可重复\n",
    "        env.action_space.seed(seed)\n",
    "        # 为动作空间设置种子，确保动作采样一致\n",
    "        env.reset(seed=seed)\n",
    "        # 重置环境，应用种子，确保初始状态一致\n",
    "        random.seed(seed)\n",
    "        # 设置 Python random 模块种子，用于随机动作选择\n",
    "        np.random.seed(seed)\n",
    "        # 设置 NumPy 随机种子，用于数组操作和采样\n",
    "        torch.manual_seed(seed)\n",
    "        # 设置 PyTorch 种子，确保神经网络初始化和训练一致\n",
    "\n",
    "    state_dim = 4                               # 环境观测维度\n",
    "    # 状态维度为 4，对应 RollingBall 环境的观测 [x_position, y_position, x_velocity, y_velocity]\n",
    "    action_dim = 1                              # 环境动作维度\n",
    "    action_bins = 10                            # 动作离散 bins 数量\n",
    "    action_range = action_bins * action_bins    # 环境动作空间大小\n",
    "    hidden_dim = 32                             # 神经网络隐藏层大小\n",
    "    # 学习率不建议太大，很难收敛\n",
    "    lr = 0.001                                   # 学习率\n",
    "    num_episodes = 1000                         # 总训练回合数\n",
    "    gamma = 0.99                                # 折扣因子\n",
    "    epsilon_start = 0.2                       # 初始探索率\n",
    "    epsilon_end = 0.01                        # 最终探索率\n",
    "    tau = 0.001                        # 目标网络更新参数\n",
    "    buffer_size = 10000                         # 回放缓冲区容量\n",
    "    minimal_size = 5000                         # 训练前最小缓冲区大小\n",
    "    batch_size = 128                            # 批量大小\n",
    "    device = torch.device(\"cuda\") if torch.cuda.is_available() else torch.device(\"cpu\")\n",
    "    # 优先使用 GPU（CUDA），否则使用 CPU，加速神经网络计算\n",
    "\n",
    "    # 构建环境\n",
    "    env = RollingBall(width=8, height=8, show_epi=True)\n",
    "    # 创建 5x5 的 RollingBall 环境，显示小球轨迹\n",
    "    # 参考 GridWorld.py：\n",
    "    # - 初始位置：(1, 1)（0.2 * 5）\n",
    "    # - 目标位置：(4, 4)（0.8 * 5）\n",
    "    # - 奖励：每步 -2.0，撞墙 -10.0，目标 +300.0\n",
    "    # - 动作空间：Box([-0.1, 0.1], shape=(2,))，x 和 y 方向的力\n",
    "    # - 观测空间：Box([0, 0, -5, -5], [5, 5, 5, 5])，[x, y, vx, vy]\n",
    "    env = FlattenActionSpaceWrapper(DiscreteActionWrapper(env, bins=10))\n",
    "    # 包装动作空间：\n",
    "    # 1. DiscreteActionWrapper（参考 Hashposotion.py）：\n",
    "    #    - 将连续动作离散化为 MultiDiscrete([10, 10])\n",
    "    #    - 每个维度 10 个 bins，映射到 [-1, 1]，步长 0.2\n",
    "    # 2. FlattenActionSpaceWrapper：\n",
    "    #    - 展平为 Discrete(100)，动作索引 0-99\n",
    "    env = TimeLimit(env, 100)\n",
    "    # 限制每回合最大 100 步，超限返回 truncated=True\n",
    "    check_env(env.unwrapped)\n",
    "    # 检查原始 RollingBall 环境是否符合 Gym 规范\n",
    "    set_seed(env, seed=42)\n",
    "    # 设置环境随机种子，确保一致性\n",
    "\n",
    "    # 构建代理和回放缓冲区\n",
    "    replay_buffer = ReplayBuffer(buffer_size)\n",
    "    # 创建回放缓冲区，容量 10000，存储经验 (state, action, reward, next_state, done)\n",
    "    agent = DQN(state_dim, hidden_dim, action_dim, action_range, lr, gamma, epsilon_start, tau, device)\n",
    "    # 创建 DQN 代理（假设 DQN 类已定义）\n",
    "    # 配置：4 维状态输入，100 个动作输出，32 单元隐藏层，学习率 0.001，折扣因子 0.99\n",
    "    # 功能：epsilon-greedy 动作选择，Q 网络更新，目标网络定期同步\n",
    "\n",
    "    # 随机动作填充回放缓冲区\n",
    "    state, _ = env.reset()\n",
    "    # 重置环境，获取初始状态\n",
    "    while replay_buffer.size() <= minimal_size:\n",
    "        action = env.action_space.sample()\n",
    "        # 随机选择动作（0-99）\n",
    "        next_state, reward, terminated, truncated, _ = env.step(action)\n",
    "        # 执行动作，获取下一状态、奖励、终止标志等\n",
    "        replay_buffer.add(state, action, reward, next_state, done=terminated or truncated)\n",
    "        # 存储经验，done 表示回合是否结束\n",
    "        state = next_state\n",
    "        # 更新状态\n",
    "        if terminated or truncated:\n",
    "            env.render()\n",
    "            # 回合结束时渲染，显示小球轨迹\n",
    "            state, _ = env.reset()\n",
    "            # 重置环境\n",
    "        #print(replay_buffer.size())\n",
    "        # （注释掉）可打印缓冲区大小，监控填充进度\n",
    "\n",
    "    # 开始训练\n",
    "    return_list = []\n",
    "    # 存储每回合总回报\n",
    "    max_q_value_list = []\n",
    "    # 存储平滑的最大 Q 值\n",
    "    max_q_value = 0\n",
    "    # 用于平滑 Q 值的初始值\n",
    "    for i in range(20):\n",
    "        # 分 20 次迭代，每迭代 50 回合，共 1000 回合\n",
    "        with tqdm(total=int(num_episodes / 20), desc='Iteration %d' % i) as pbar:\n",
    "            # 使用 tqdm 显示进度条\n",
    "            for i_episode in range(int(num_episodes / 20)):\n",
    "                # 每迭代 50 回合\n",
    "                episode_return = 0\n",
    "                # 初始化回合回报\n",
    "                state, _ = env.reset()\n",
    "                # 重置环境\n",
    "                while True:\n",
    "                    # 计算并平滑最大 Q 值\n",
    "                    max_q_value = agent.max_q_value_of_given_state(state) * 0.005 + max_q_value * 0.995\n",
    "                    # 使用指数平滑，权重 0.005（新值）和 0.995（旧值）\n",
    "                    max_q_value_list.append(max_q_value)\n",
    "                    # 记录 Q 值\n",
    "\n",
    "                    # 选择并执行动作\n",
    "                    action = agent.take_action(state)\n",
    "                    # 使用 epsilon-greedy 策略选择动作\n",
    "                    next_state, reward, terminated, truncated, _ = env.step(action)\n",
    "                    # 执行动作，获取结果\n",
    "\n",
    "                    # 更新回放缓冲区\n",
    "                    replay_buffer.add(state, action, reward, next_state, done=terminated or truncated)\n",
    "                    # 存储新经验\n",
    "\n",
    "                    # 训练 Q 网络\n",
    "                    assert replay_buffer.size() > minimal_size\n",
    "                    # 确保缓冲区足够大\n",
    "                    b_s, b_a, b_r, b_ns, b_d = replay_buffer.sample(batch_size)\n",
    "                    # 采样 128 条经验\n",
    "                    transition_dict = {\n",
    "                        'states': b_s,\n",
    "                        'actions': b_a,\n",
    "                        'next_states': b_ns,\n",
    "                        'rewards': b_r,\n",
    "                        'dones': b_d\n",
    "                    }\n",
    "                    # 组织批量数据\n",
    "                    agent.update(transition_dict)\n",
    "                    # 更新 Q 网络，计算 Q 学习损失并优化\n",
    "\n",
    "                    state = next_state\n",
    "                    # 更新状态\n",
    "                    episode_return += reward\n",
    "                    # 累加回报\n",
    "\n",
    "                    if terminated or truncated:\n",
    "                        env.render()\n",
    "                        # 回合结束时渲染\n",
    "                        if terminated:\n",
    "                            print(f\"Episode {num_episodes / 20 * i + i_episode + 1}: Goal reached!\")   \n",
    "                        break\n",
    "                    #env.render()\n",
    "                    # （注释掉）可每步渲染，但会减慢训练\n",
    "\n",
    "                return_list.append(episode_return)\n",
    "                # 记录回合回报\n",
    "                if (i_episode + 1) % 10 == 0:\n",
    "                    pbar.set_postfix({\n",
    "                        'episode': '%d' % (num_episodes / 10 * i + i_episode + 1),\n",
    "                        'return': '%.3f' % np.mean(return_list[-10:])\n",
    "                    })\n",
    "                    # 每 10 回合更新进度条，显示回合数和最近 10 次平均回报\n",
    "                pbar.update(1)\n",
    "                # 更新进度条\n",
    "\n",
    "        #env.render()\n",
    "        # （注释掉）迭代结束时可渲染\n",
    "        agent.epsilon += (epsilon_end - epsilon_start) / 10\n",
    "        # 调整 epsilon，注意：应为衰减，可能需改为 agent.epsilon = epsilon_start + (epsilon_end - epsilon_start) * i / 19\n",
    "    env.close()\n",
    "    # 显示训练结果\n",
    "    mv_return_list = moving_average(return_list, 29)\n",
    "    # 计算 29 步滑动平均回报\n",
    "    episodes_list = list(range(len(return_list)))\n",
    "    # 生成回合索引\n",
    "    plt.figure(figsize=(12,8))\n",
    "    # 创建 12x8 英寸画布\n",
    "    plt.plot(episodes_list, return_list, label='raw', alpha=0.5)\n",
    "    # 绘制原始回报，半透明\n",
    "    plt.plot(episodes_list, mv_return_list, label='moving ave')\n",
    "    # 绘制平滑回报\n",
    "    plt.xlabel('Episodes')\n",
    "    plt.ylabel('Returns')\n",
    "    plt.title(f'{agent._get_name()} on RollingBall')\n",
    "    # 设置标题，包含代理名称（如 DQN）\n",
    "    plt.legend()\n",
    "    # 显示图例\n",
    "    plt.savefig(f'./result/{agent._get_name()}.png')\n",
    "    # 保存回报曲线\n",
    "    plt.show()\n",
    "    # 显示图像\n",
    "    # 显示最大 Q 值\n",
    "    frames_list = list(range(len(max_q_value_list)))\n",
    "    # 生成帧索引\n",
    "    plt.plot(frames_list, max_q_value_list)\n",
    "    # 绘制平滑 Q 值曲线\n",
    "    plt.axhline(max(max_q_value_list), c='orange', ls='--')\n",
    "    # 标记最大 Q 值\n",
    "    plt.xlabel('Frames')\n",
    "    plt.ylabel('Max Q_value')\n",
    "    plt.title(f'{agent._get_name()} on RollingBall')\n",
    "    # 设置标题\n",
    "    plt.savefig(f'./result/{agent._get_name()}_MaxQ.png')\n",
    "    # 保存 Q 值曲线\n",
    "    plt.show()\n",
    "    # 显示图像"
   ]
  },
  {
   "cell_type": "markdown",
   "id": "130dda9e",
   "metadata": {},
   "source": [
    "#### Double DQN：\n"
   ]
  },
  {
   "cell_type": "code",
   "execution_count": null,
   "id": "f93d0aa6",
   "metadata": {},
   "outputs": [
    {
     "name": "stdout",
     "output_type": "stream",
     "text": [
      "Episode 469.0: Goal reached!\n",
      "Episode 470.0: Goal reached!\n"
     ]
    },
    {
     "name": "stderr",
     "output_type": "stream",
     "text": [
      "Iteration 9:  44%|████▍     | 22/50 [00:03<00:04,  6.64it/s, episode=920, return=537.120]"
     ]
    },
    {
     "name": "stdout",
     "output_type": "stream",
     "text": [
      "Episode 471.0: Goal reached!\n",
      "Episode 472.0: Goal reached!\n"
     ]
    },
    {
     "name": "stderr",
     "output_type": "stream",
     "text": [
      "Iteration 9:  48%|████▊     | 24/50 [00:03<00:03,  6.63it/s, episode=920, return=537.120]"
     ]
    },
    {
     "name": "stdout",
     "output_type": "stream",
     "text": [
      "Episode 473.0: Goal reached!\n",
      "Episode 474.0: Goal reached!\n"
     ]
    },
    {
     "name": "stderr",
     "output_type": "stream",
     "text": [
      "Iteration 9:  50%|█████     | 25/50 [00:04<00:03,  6.64it/s, episode=920, return=537.120]"
     ]
    },
    {
     "name": "stdout",
     "output_type": "stream",
     "text": [
      "Episode 475.0: Goal reached!\n"
     ]
    },
    {
     "name": "stderr",
     "output_type": "stream",
     "text": [
      "Iteration 9:  56%|█████▌    | 28/50 [00:04<00:03,  5.53it/s, episode=920, return=537.120]"
     ]
    },
    {
     "name": "stdout",
     "output_type": "stream",
     "text": [
      "Episode 477.0: Goal reached!\n",
      "Episode 478.0: Goal reached!\n"
     ]
    },
    {
     "name": "stderr",
     "output_type": "stream",
     "text": [
      "Iteration 9:  60%|██████    | 30/50 [00:04<00:03,  6.14it/s, episode=930, return=582.746]"
     ]
    },
    {
     "name": "stdout",
     "output_type": "stream",
     "text": [
      "Episode 479.0: Goal reached!\n",
      "Episode 480.0: Goal reached!\n"
     ]
    },
    {
     "name": "stderr",
     "output_type": "stream",
     "text": [
      "Iteration 9:  64%|██████▍   | 32/50 [00:05<00:02,  6.06it/s, episode=930, return=582.746]"
     ]
    },
    {
     "name": "stdout",
     "output_type": "stream",
     "text": [
      "Episode 481.0: Goal reached!\n",
      "Episode 482.0: Goal reached!\n"
     ]
    },
    {
     "name": "stderr",
     "output_type": "stream",
     "text": [
      "Iteration 9:  68%|██████▊   | 34/50 [00:05<00:02,  6.35it/s, episode=930, return=582.746]"
     ]
    },
    {
     "name": "stdout",
     "output_type": "stream",
     "text": [
      "Episode 483.0: Goal reached!\n",
      "Episode 484.0: Goal reached!\n"
     ]
    },
    {
     "name": "stderr",
     "output_type": "stream",
     "text": [
      "Iteration 9:  70%|███████   | 35/50 [00:05<00:02,  6.21it/s, episode=930, return=582.746]"
     ]
    },
    {
     "name": "stdout",
     "output_type": "stream",
     "text": [
      "Episode 485.0: Goal reached!\n",
      "Episode 486.0: Goal reached!\n"
     ]
    },
    {
     "name": "stderr",
     "output_type": "stream",
     "text": [
      "Iteration 9:  76%|███████▌  | 38/50 [00:06<00:02,  5.51it/s, episode=930, return=582.746]"
     ]
    },
    {
     "name": "stdout",
     "output_type": "stream",
     "text": [
      "Episode 487.0: Goal reached!\n",
      "Episode 488.0: Goal reached!\n"
     ]
    },
    {
     "name": "stderr",
     "output_type": "stream",
     "text": [
      "Iteration 9:  80%|████████  | 40/50 [00:06<00:01,  5.75it/s, episode=940, return=527.474]"
     ]
    },
    {
     "name": "stdout",
     "output_type": "stream",
     "text": [
      "Episode 489.0: Goal reached!\n",
      "Episode 490.0: Goal reached!\n"
     ]
    },
    {
     "name": "stderr",
     "output_type": "stream",
     "text": [
      "Iteration 9:  84%|████████▍ | 42/50 [00:07<00:01,  5.69it/s, episode=940, return=527.474]"
     ]
    },
    {
     "name": "stdout",
     "output_type": "stream",
     "text": [
      "Episode 491.0: Goal reached!\n",
      "Episode 492.0: Goal reached!\n"
     ]
    },
    {
     "name": "stderr",
     "output_type": "stream",
     "text": [
      "Iteration 9:  88%|████████▊ | 44/50 [00:07<00:01,  5.97it/s, episode=940, return=527.474]"
     ]
    },
    {
     "name": "stdout",
     "output_type": "stream",
     "text": [
      "Episode 493.0: Goal reached!\n",
      "Episode 494.0: Goal reached!\n"
     ]
    },
    {
     "name": "stderr",
     "output_type": "stream",
     "text": [
      "Iteration 9:  92%|█████████▏| 46/50 [00:07<00:00,  6.13it/s, episode=940, return=527.474]"
     ]
    },
    {
     "name": "stdout",
     "output_type": "stream",
     "text": [
      "Episode 495.0: Goal reached!\n",
      "Episode 496.0: Goal reached!\n"
     ]
    },
    {
     "name": "stderr",
     "output_type": "stream",
     "text": [
      "Iteration 9:  96%|█████████▌| 48/50 [00:08<00:00,  6.08it/s, episode=940, return=527.474]"
     ]
    },
    {
     "name": "stdout",
     "output_type": "stream",
     "text": [
      "Episode 497.0: Goal reached!\n",
      "Episode 498.0: Goal reached!\n"
     ]
    },
    {
     "name": "stderr",
     "output_type": "stream",
     "text": [
      "Iteration 9: 100%|██████████| 50/50 [00:08<00:00,  5.99it/s, episode=950, return=529.811]\n"
     ]
    },
    {
     "name": "stdout",
     "output_type": "stream",
     "text": [
      "Episode 499.0: Goal reached!\n",
      "Episode 500.0: Goal reached!\n"
     ]
    },
    {
     "name": "stderr",
     "output_type": "stream",
     "text": [
      "Iteration 10:   4%|▍         | 2/50 [00:00<00:07,  6.33it/s]"
     ]
    },
    {
     "name": "stdout",
     "output_type": "stream",
     "text": [
      "Episode 501.0: Goal reached!\n",
      "Episode 502.0: Goal reached!\n"
     ]
    },
    {
     "name": "stderr",
     "output_type": "stream",
     "text": [
      "Iteration 10:   8%|▊         | 4/50 [00:00<00:07,  5.99it/s]"
     ]
    },
    {
     "name": "stdout",
     "output_type": "stream",
     "text": [
      "Episode 503.0: Goal reached!\n",
      "Episode 504.0: Goal reached!\n"
     ]
    },
    {
     "name": "stderr",
     "output_type": "stream",
     "text": [
      "Iteration 10:  12%|█▏        | 6/50 [00:00<00:07,  6.22it/s]"
     ]
    },
    {
     "name": "stdout",
     "output_type": "stream",
     "text": [
      "Episode 505.0: Goal reached!\n",
      "Episode 506.0: Goal reached!\n"
     ]
    },
    {
     "name": "stderr",
     "output_type": "stream",
     "text": [
      "Iteration 10:  16%|█▌        | 8/50 [00:01<00:06,  6.53it/s]"
     ]
    },
    {
     "name": "stdout",
     "output_type": "stream",
     "text": [
      "Episode 507.0: Goal reached!\n",
      "Episode 508.0: Goal reached!\n"
     ]
    },
    {
     "name": "stderr",
     "output_type": "stream",
     "text": [
      "Iteration 10:  20%|██        | 10/50 [00:01<00:06,  5.94it/s, episode=1010, return=543.302]"
     ]
    },
    {
     "name": "stdout",
     "output_type": "stream",
     "text": [
      "Episode 509.0: Goal reached!\n",
      "Episode 510.0: Goal reached!\n"
     ]
    },
    {
     "name": "stderr",
     "output_type": "stream",
     "text": [
      "Iteration 10:  24%|██▍       | 12/50 [00:01<00:06,  6.10it/s, episode=1010, return=543.302]"
     ]
    },
    {
     "name": "stdout",
     "output_type": "stream",
     "text": [
      "Episode 511.0: Goal reached!\n",
      "Episode 512.0: Goal reached!\n"
     ]
    },
    {
     "name": "stderr",
     "output_type": "stream",
     "text": [
      "Iteration 10:  28%|██▊       | 14/50 [00:02<00:05,  6.50it/s, episode=1010, return=543.302]"
     ]
    },
    {
     "name": "stdout",
     "output_type": "stream",
     "text": [
      "Episode 513.0: Goal reached!\n",
      "Episode 514.0: Goal reached!\n"
     ]
    },
    {
     "name": "stderr",
     "output_type": "stream",
     "text": [
      "Iteration 10:  32%|███▏      | 16/50 [00:02<00:05,  6.78it/s, episode=1010, return=543.302]"
     ]
    },
    {
     "name": "stdout",
     "output_type": "stream",
     "text": [
      "Episode 515.0: Goal reached!\n",
      "Episode 516.0: Goal reached!\n"
     ]
    },
    {
     "name": "stderr",
     "output_type": "stream",
     "text": [
      "Iteration 10:  36%|███▌      | 18/50 [00:02<00:04,  6.83it/s, episode=1010, return=543.302]"
     ]
    },
    {
     "name": "stdout",
     "output_type": "stream",
     "text": [
      "Episode 517.0: Goal reached!\n",
      "Episode 518.0: Goal reached!\n"
     ]
    },
    {
     "name": "stderr",
     "output_type": "stream",
     "text": [
      "Iteration 10:  40%|████      | 20/50 [00:03<00:04,  6.71it/s, episode=1020, return=540.853]"
     ]
    },
    {
     "name": "stdout",
     "output_type": "stream",
     "text": [
      "Episode 519.0: Goal reached!\n",
      "Episode 520.0: Goal reached!\n"
     ]
    },
    {
     "name": "stderr",
     "output_type": "stream",
     "text": [
      "Iteration 10:  44%|████▍     | 22/50 [00:03<00:04,  6.97it/s, episode=1020, return=540.853]"
     ]
    },
    {
     "name": "stdout",
     "output_type": "stream",
     "text": [
      "Episode 521.0: Goal reached!\n",
      "Episode 522.0: Goal reached!\n"
     ]
    },
    {
     "name": "stderr",
     "output_type": "stream",
     "text": [
      "Iteration 10:  48%|████▊     | 24/50 [00:03<00:03,  6.99it/s, episode=1020, return=540.853]"
     ]
    },
    {
     "name": "stdout",
     "output_type": "stream",
     "text": [
      "Episode 523.0: Goal reached!\n",
      "Episode 524.0: Goal reached!\n"
     ]
    },
    {
     "name": "stderr",
     "output_type": "stream",
     "text": [
      "Iteration 10:  50%|█████     | 25/50 [00:03<00:03,  6.78it/s, episode=1020, return=540.853]"
     ]
    },
    {
     "name": "stdout",
     "output_type": "stream",
     "text": [
      "Episode 525.0: Goal reached!\n",
      "Episode 526.0: Goal reached!\n"
     ]
    },
    {
     "name": "stderr",
     "output_type": "stream",
     "text": [
      "Iteration 10:  56%|█████▌    | 28/50 [00:04<00:03,  6.21it/s, episode=1020, return=540.853]"
     ]
    },
    {
     "name": "stdout",
     "output_type": "stream",
     "text": [
      "Episode 527.0: Goal reached!\n",
      "Episode 528.0: Goal reached!\n"
     ]
    },
    {
     "name": "stderr",
     "output_type": "stream",
     "text": [
      "Iteration 10:  60%|██████    | 30/50 [00:04<00:03,  6.61it/s, episode=1030, return=544.895]"
     ]
    },
    {
     "name": "stdout",
     "output_type": "stream",
     "text": [
      "Episode 529.0: Goal reached!\n",
      "Episode 530.0: Goal reached!\n"
     ]
    },
    {
     "name": "stderr",
     "output_type": "stream",
     "text": [
      "Iteration 10:  64%|██████▍   | 32/50 [00:04<00:02,  6.68it/s, episode=1030, return=544.895]"
     ]
    },
    {
     "name": "stdout",
     "output_type": "stream",
     "text": [
      "Episode 531.0: Goal reached!\n",
      "Episode 532.0: Goal reached!\n"
     ]
    },
    {
     "name": "stderr",
     "output_type": "stream",
     "text": [
      "Iteration 10:  68%|██████▊   | 34/50 [00:05<00:02,  6.77it/s, episode=1030, return=544.895]"
     ]
    },
    {
     "name": "stdout",
     "output_type": "stream",
     "text": [
      "Episode 533.0: Goal reached!\n",
      "Episode 534.0: Goal reached!\n"
     ]
    },
    {
     "name": "stderr",
     "output_type": "stream",
     "text": [
      "Iteration 10:  72%|███████▏  | 36/50 [00:05<00:02,  6.96it/s, episode=1030, return=544.895]"
     ]
    },
    {
     "name": "stdout",
     "output_type": "stream",
     "text": [
      "Episode 535.0: Goal reached!\n",
      "Episode 536.0: Goal reached!\n"
     ]
    },
    {
     "name": "stderr",
     "output_type": "stream",
     "text": [
      "Iteration 10:  76%|███████▌  | 38/50 [00:05<00:01,  6.81it/s, episode=1030, return=544.895]"
     ]
    },
    {
     "name": "stdout",
     "output_type": "stream",
     "text": [
      "Episode 537.0: Goal reached!\n",
      "Episode 538.0: Goal reached!\n"
     ]
    },
    {
     "name": "stderr",
     "output_type": "stream",
     "text": [
      "Iteration 10:  80%|████████  | 40/50 [00:06<00:01,  6.55it/s, episode=1040, return=543.902]"
     ]
    },
    {
     "name": "stdout",
     "output_type": "stream",
     "text": [
      "Episode 539.0: Goal reached!\n",
      "Episode 540.0: Goal reached!\n"
     ]
    },
    {
     "name": "stderr",
     "output_type": "stream",
     "text": [
      "Iteration 10:  84%|████████▍ | 42/50 [00:06<00:01,  6.82it/s, episode=1040, return=543.902]"
     ]
    },
    {
     "name": "stdout",
     "output_type": "stream",
     "text": [
      "Episode 541.0: Goal reached!\n",
      "Episode 542.0: Goal reached!\n"
     ]
    },
    {
     "name": "stderr",
     "output_type": "stream",
     "text": [
      "Iteration 10:  88%|████████▊ | 44/50 [00:06<00:00,  6.80it/s, episode=1040, return=543.902]"
     ]
    },
    {
     "name": "stdout",
     "output_type": "stream",
     "text": [
      "Episode 543.0: Goal reached!\n",
      "Episode 544.0: Goal reached!\n"
     ]
    },
    {
     "name": "stderr",
     "output_type": "stream",
     "text": [
      "Iteration 10:  92%|█████████▏| 46/50 [00:07<00:00,  6.39it/s, episode=1040, return=543.902]"
     ]
    },
    {
     "name": "stdout",
     "output_type": "stream",
     "text": [
      "Episode 545.0: Goal reached!\n",
      "Episode 546.0: Goal reached!\n"
     ]
    },
    {
     "name": "stderr",
     "output_type": "stream",
     "text": [
      "Iteration 10:  96%|█████████▌| 48/50 [00:07<00:00,  6.63it/s, episode=1040, return=543.902]"
     ]
    },
    {
     "name": "stdout",
     "output_type": "stream",
     "text": [
      "Episode 547.0: Goal reached!\n",
      "Episode 548.0: Goal reached!\n"
     ]
    },
    {
     "name": "stderr",
     "output_type": "stream",
     "text": [
      "Iteration 10: 100%|██████████| 50/50 [00:07<00:00,  6.56it/s, episode=1050, return=538.189]\n"
     ]
    },
    {
     "name": "stdout",
     "output_type": "stream",
     "text": [
      "Episode 549.0: Goal reached!\n",
      "Episode 550.0: Goal reached!\n"
     ]
    },
    {
     "name": "stderr",
     "output_type": "stream",
     "text": [
      "Iteration 11:   4%|▍         | 2/50 [00:00<00:07,  6.70it/s]"
     ]
    },
    {
     "name": "stdout",
     "output_type": "stream",
     "text": [
      "Episode 551.0: Goal reached!\n",
      "Episode 552.0: Goal reached!\n"
     ]
    },
    {
     "name": "stderr",
     "output_type": "stream",
     "text": [
      "Iteration 11:   8%|▊         | 4/50 [00:00<00:06,  6.81it/s]"
     ]
    },
    {
     "name": "stdout",
     "output_type": "stream",
     "text": [
      "Episode 553.0: Goal reached!\n",
      "Episode 554.0: Goal reached!\n"
     ]
    },
    {
     "name": "stderr",
     "output_type": "stream",
     "text": [
      "Iteration 11:  12%|█▏        | 6/50 [00:00<00:06,  6.54it/s]"
     ]
    },
    {
     "name": "stdout",
     "output_type": "stream",
     "text": [
      "Episode 555.0: Goal reached!\n",
      "Episode 556.0: Goal reached!\n"
     ]
    },
    {
     "name": "stderr",
     "output_type": "stream",
     "text": [
      "Iteration 11:  16%|█▌        | 8/50 [00:01<00:06,  6.84it/s]"
     ]
    },
    {
     "name": "stdout",
     "output_type": "stream",
     "text": [
      "Episode 557.0: Goal reached!\n",
      "Episode 558.0: Goal reached!\n"
     ]
    },
    {
     "name": "stderr",
     "output_type": "stream",
     "text": [
      "Iteration 11:  20%|██        | 10/50 [00:01<00:05,  7.12it/s, episode=1110, return=536.355]"
     ]
    },
    {
     "name": "stdout",
     "output_type": "stream",
     "text": [
      "Episode 559.0: Goal reached!\n",
      "Episode 560.0: Goal reached!\n"
     ]
    },
    {
     "name": "stderr",
     "output_type": "stream",
     "text": [
      "Iteration 11:  24%|██▍       | 12/50 [00:01<00:05,  6.83it/s, episode=1110, return=536.355]"
     ]
    },
    {
     "name": "stdout",
     "output_type": "stream",
     "text": [
      "Episode 561.0: Goal reached!\n",
      "Episode 562.0: Goal reached!\n"
     ]
    },
    {
     "name": "stderr",
     "output_type": "stream",
     "text": [
      "Iteration 11:  28%|██▊       | 14/50 [00:02<00:05,  6.72it/s, episode=1110, return=536.355]"
     ]
    },
    {
     "name": "stdout",
     "output_type": "stream",
     "text": [
      "Episode 563.0: Goal reached!\n",
      "Episode 564.0: Goal reached!\n"
     ]
    },
    {
     "name": "stderr",
     "output_type": "stream",
     "text": [
      "Iteration 11:  32%|███▏      | 16/50 [00:02<00:05,  6.68it/s, episode=1110, return=536.355]"
     ]
    },
    {
     "name": "stdout",
     "output_type": "stream",
     "text": [
      "Episode 565.0: Goal reached!\n",
      "Episode 566.0: Goal reached!\n"
     ]
    },
    {
     "name": "stderr",
     "output_type": "stream",
     "text": [
      "Iteration 11:  36%|███▌      | 18/50 [00:02<00:04,  6.61it/s, episode=1110, return=536.355]"
     ]
    },
    {
     "name": "stdout",
     "output_type": "stream",
     "text": [
      "Episode 567.0: Goal reached!\n",
      "Episode 568.0: Goal reached!\n"
     ]
    },
    {
     "name": "stderr",
     "output_type": "stream",
     "text": [
      "Iteration 11:  40%|████      | 20/50 [00:02<00:04,  6.81it/s, episode=1120, return=541.435]"
     ]
    },
    {
     "name": "stdout",
     "output_type": "stream",
     "text": [
      "Episode 569.0: Goal reached!\n",
      "Episode 570.0: Goal reached!\n"
     ]
    },
    {
     "name": "stderr",
     "output_type": "stream",
     "text": [
      "Iteration 11:  46%|████▌     | 23/50 [00:03<00:04,  5.78it/s, episode=1120, return=541.435]"
     ]
    },
    {
     "name": "stdout",
     "output_type": "stream",
     "text": [
      "Episode 572.0: Goal reached!\n",
      "Episode 573.0: Goal reached!\n"
     ]
    },
    {
     "name": "stderr",
     "output_type": "stream",
     "text": [
      "Iteration 11:  50%|█████     | 25/50 [00:03<00:04,  6.19it/s, episode=1120, return=541.435]"
     ]
    },
    {
     "name": "stdout",
     "output_type": "stream",
     "text": [
      "Episode 574.0: Goal reached!\n",
      "Episode 575.0: Goal reached!\n"
     ]
    },
    {
     "name": "stderr",
     "output_type": "stream",
     "text": [
      "Iteration 11:  54%|█████▍    | 27/50 [00:04<00:03,  6.75it/s, episode=1120, return=541.435]"
     ]
    },
    {
     "name": "stdout",
     "output_type": "stream",
     "text": [
      "Episode 576.0: Goal reached!\n",
      "Episode 577.0: Goal reached!\n"
     ]
    },
    {
     "name": "stderr",
     "output_type": "stream",
     "text": [
      "Iteration 11:  58%|█████▊    | 29/50 [00:04<00:02,  7.05it/s, episode=1120, return=541.435]"
     ]
    },
    {
     "name": "stdout",
     "output_type": "stream",
     "text": [
      "Episode 578.0: Goal reached!\n",
      "Episode 579.0: Goal reached!\n"
     ]
    },
    {
     "name": "stderr",
     "output_type": "stream",
     "text": [
      "Iteration 11:  62%|██████▏   | 31/50 [00:04<00:02,  6.60it/s, episode=1130, return=526.591]"
     ]
    },
    {
     "name": "stdout",
     "output_type": "stream",
     "text": [
      "Episode 580.0: Goal reached!\n",
      "Episode 581.0: Goal reached!\n"
     ]
    },
    {
     "name": "stderr",
     "output_type": "stream",
     "text": [
      "Iteration 11:  66%|██████▌   | 33/50 [00:05<00:02,  6.54it/s, episode=1130, return=526.591]"
     ]
    },
    {
     "name": "stdout",
     "output_type": "stream",
     "text": [
      "Episode 582.0: Goal reached!\n",
      "Episode 583.0: Goal reached!\n"
     ]
    },
    {
     "name": "stderr",
     "output_type": "stream",
     "text": [
      "Iteration 11:  68%|██████▊   | 34/50 [00:05<00:02,  5.82it/s, episode=1130, return=526.591]"
     ]
    },
    {
     "name": "stdout",
     "output_type": "stream",
     "text": [
      "Episode 584.0: Goal reached!\n"
     ]
    },
    {
     "name": "stderr",
     "output_type": "stream",
     "text": [
      "Iteration 11:  72%|███████▏  | 36/50 [00:05<00:02,  5.73it/s, episode=1130, return=526.591]"
     ]
    },
    {
     "name": "stdout",
     "output_type": "stream",
     "text": [
      "Episode 585.0: Goal reached!\n",
      "Episode 586.0: Goal reached!\n"
     ]
    },
    {
     "name": "stderr",
     "output_type": "stream",
     "text": [
      "Iteration 11:  76%|███████▌  | 38/50 [00:05<00:01,  6.06it/s, episode=1130, return=526.591]"
     ]
    },
    {
     "name": "stdout",
     "output_type": "stream",
     "text": [
      "Episode 587.0: Goal reached!\n",
      "Episode 588.0: Goal reached!\n"
     ]
    },
    {
     "name": "stderr",
     "output_type": "stream",
     "text": [
      "Iteration 11:  80%|████████  | 40/50 [00:06<00:01,  6.57it/s, episode=1140, return=540.227]"
     ]
    },
    {
     "name": "stdout",
     "output_type": "stream",
     "text": [
      "Episode 589.0: Goal reached!\n",
      "Episode 590.0: Goal reached!\n"
     ]
    },
    {
     "name": "stderr",
     "output_type": "stream",
     "text": [
      "Iteration 11:  84%|████████▍ | 42/50 [00:06<00:01,  6.88it/s, episode=1140, return=540.227]"
     ]
    },
    {
     "name": "stdout",
     "output_type": "stream",
     "text": [
      "Episode 591.0: Goal reached!\n",
      "Episode 592.0: Goal reached!\n"
     ]
    },
    {
     "name": "stderr",
     "output_type": "stream",
     "text": [
      "Iteration 11:  88%|████████▊ | 44/50 [00:06<00:00,  7.08it/s, episode=1140, return=540.227]"
     ]
    },
    {
     "name": "stdout",
     "output_type": "stream",
     "text": [
      "Episode 593.0: Goal reached!\n",
      "Episode 594.0: Goal reached!\n"
     ]
    },
    {
     "name": "stderr",
     "output_type": "stream",
     "text": [
      "Iteration 11:  92%|█████████▏| 46/50 [00:07<00:00,  6.68it/s, episode=1140, return=540.227]"
     ]
    },
    {
     "name": "stdout",
     "output_type": "stream",
     "text": [
      "Episode 595.0: Goal reached!\n",
      "Episode 596.0: Goal reached!\n"
     ]
    },
    {
     "name": "stderr",
     "output_type": "stream",
     "text": [
      "Iteration 11:  96%|█████████▌| 48/50 [00:07<00:00,  6.83it/s, episode=1140, return=540.227]"
     ]
    },
    {
     "name": "stdout",
     "output_type": "stream",
     "text": [
      "Episode 597.0: Goal reached!\n",
      "Episode 598.0: Goal reached!\n"
     ]
    },
    {
     "name": "stderr",
     "output_type": "stream",
     "text": [
      "Iteration 11: 100%|██████████| 50/50 [00:07<00:00,  6.47it/s, episode=1150, return=540.019]\n"
     ]
    },
    {
     "name": "stdout",
     "output_type": "stream",
     "text": [
      "Episode 599.0: Goal reached!\n",
      "Episode 600.0: Goal reached!\n"
     ]
    },
    {
     "name": "stderr",
     "output_type": "stream",
     "text": [
      "Iteration 12:   4%|▍         | 2/50 [00:00<00:07,  6.46it/s]"
     ]
    },
    {
     "name": "stdout",
     "output_type": "stream",
     "text": [
      "Episode 601.0: Goal reached!\n",
      "Episode 602.0: Goal reached!\n"
     ]
    },
    {
     "name": "stderr",
     "output_type": "stream",
     "text": [
      "Iteration 12:   8%|▊         | 4/50 [00:00<00:06,  6.72it/s]"
     ]
    },
    {
     "name": "stdout",
     "output_type": "stream",
     "text": [
      "Episode 603.0: Goal reached!\n",
      "Episode 604.0: Goal reached!\n"
     ]
    },
    {
     "name": "stderr",
     "output_type": "stream",
     "text": [
      "Iteration 12:  12%|█▏        | 6/50 [00:00<00:06,  6.75it/s]"
     ]
    },
    {
     "name": "stdout",
     "output_type": "stream",
     "text": [
      "Episode 605.0: Goal reached!\n",
      "Episode 606.0: Goal reached!\n"
     ]
    },
    {
     "name": "stderr",
     "output_type": "stream",
     "text": [
      "Iteration 12:  16%|█▌        | 8/50 [00:01<00:06,  6.75it/s]"
     ]
    },
    {
     "name": "stdout",
     "output_type": "stream",
     "text": [
      "Episode 607.0: Goal reached!\n",
      "Episode 608.0: Goal reached!\n"
     ]
    },
    {
     "name": "stderr",
     "output_type": "stream",
     "text": [
      "Iteration 12:  20%|██        | 10/50 [00:01<00:05,  7.04it/s, episode=1210, return=541.773]"
     ]
    },
    {
     "name": "stdout",
     "output_type": "stream",
     "text": [
      "Episode 609.0: Goal reached!\n",
      "Episode 610.0: Goal reached!\n"
     ]
    },
    {
     "name": "stderr",
     "output_type": "stream",
     "text": [
      "Iteration 12:  24%|██▍       | 12/50 [00:01<00:05,  6.92it/s, episode=1210, return=541.773]"
     ]
    },
    {
     "name": "stdout",
     "output_type": "stream",
     "text": [
      "Episode 611.0: Goal reached!\n",
      "Episode 612.0: Goal reached!\n"
     ]
    },
    {
     "name": "stderr",
     "output_type": "stream",
     "text": [
      "Iteration 12:  28%|██▊       | 14/50 [00:02<00:05,  6.90it/s, episode=1210, return=541.773]"
     ]
    },
    {
     "name": "stdout",
     "output_type": "stream",
     "text": [
      "Episode 613.0: Goal reached!\n",
      "Episode 614.0: Goal reached!\n"
     ]
    },
    {
     "name": "stderr",
     "output_type": "stream",
     "text": [
      "Iteration 12:  32%|███▏      | 16/50 [00:02<00:04,  6.99it/s, episode=1210, return=541.773]"
     ]
    },
    {
     "name": "stdout",
     "output_type": "stream",
     "text": [
      "Episode 615.0: Goal reached!\n",
      "Episode 616.0: Goal reached!\n"
     ]
    },
    {
     "name": "stderr",
     "output_type": "stream",
     "text": [
      "Iteration 12:  36%|███▌      | 18/50 [00:02<00:04,  6.76it/s, episode=1210, return=541.773]"
     ]
    },
    {
     "name": "stdout",
     "output_type": "stream",
     "text": [
      "Episode 617.0: Goal reached!\n",
      "Episode 618.0: Goal reached!\n"
     ]
    },
    {
     "name": "stderr",
     "output_type": "stream",
     "text": [
      "Iteration 12:  40%|████      | 20/50 [00:02<00:04,  6.85it/s, episode=1220, return=541.416]"
     ]
    },
    {
     "name": "stdout",
     "output_type": "stream",
     "text": [
      "Episode 619.0: Goal reached!\n",
      "Episode 620.0: Goal reached!\n"
     ]
    },
    {
     "name": "stderr",
     "output_type": "stream",
     "text": [
      "Iteration 12:  44%|████▍     | 22/50 [00:03<00:04,  6.88it/s, episode=1220, return=541.416]"
     ]
    },
    {
     "name": "stdout",
     "output_type": "stream",
     "text": [
      "Episode 621.0: Goal reached!\n",
      "Episode 622.0: Goal reached!\n"
     ]
    },
    {
     "name": "stderr",
     "output_type": "stream",
     "text": [
      "Iteration 12:  48%|████▊     | 24/50 [00:03<00:03,  7.03it/s, episode=1220, return=541.416]"
     ]
    },
    {
     "name": "stdout",
     "output_type": "stream",
     "text": [
      "Episode 623.0: Goal reached!\n",
      "Episode 624.0: Goal reached!\n"
     ]
    },
    {
     "name": "stderr",
     "output_type": "stream",
     "text": [
      "Iteration 12:  52%|█████▏    | 26/50 [00:03<00:03,  6.80it/s, episode=1220, return=541.416]"
     ]
    },
    {
     "name": "stdout",
     "output_type": "stream",
     "text": [
      "Episode 625.0: Goal reached!\n",
      "Episode 626.0: Goal reached!\n"
     ]
    },
    {
     "name": "stderr",
     "output_type": "stream",
     "text": [
      "Iteration 12:  56%|█████▌    | 28/50 [00:04<00:03,  6.86it/s, episode=1220, return=541.416]"
     ]
    },
    {
     "name": "stdout",
     "output_type": "stream",
     "text": [
      "Episode 627.0: Goal reached!\n",
      "Episode 628.0: Goal reached!\n"
     ]
    },
    {
     "name": "stderr",
     "output_type": "stream",
     "text": [
      "Iteration 12:  60%|██████    | 30/50 [00:04<00:02,  7.00it/s, episode=1230, return=542.165]"
     ]
    },
    {
     "name": "stdout",
     "output_type": "stream",
     "text": [
      "Episode 629.0: Goal reached!\n",
      "Episode 630.0: Goal reached!\n"
     ]
    },
    {
     "name": "stderr",
     "output_type": "stream",
     "text": [
      "Iteration 12:  64%|██████▍   | 32/50 [00:04<00:02,  6.78it/s, episode=1230, return=542.165]"
     ]
    },
    {
     "name": "stdout",
     "output_type": "stream",
     "text": [
      "Episode 631.0: Goal reached!\n",
      "Episode 632.0: Goal reached!\n"
     ]
    },
    {
     "name": "stderr",
     "output_type": "stream",
     "text": [
      "Iteration 12:  68%|██████▊   | 34/50 [00:04<00:02,  6.92it/s, episode=1230, return=542.165]"
     ]
    },
    {
     "name": "stdout",
     "output_type": "stream",
     "text": [
      "Episode 633.0: Goal reached!\n",
      "Episode 634.0: Goal reached!\n"
     ]
    },
    {
     "name": "stderr",
     "output_type": "stream",
     "text": [
      "Iteration 12:  72%|███████▏  | 36/50 [00:05<00:02,  6.29it/s, episode=1230, return=542.165]"
     ]
    },
    {
     "name": "stdout",
     "output_type": "stream",
     "text": [
      "Episode 635.0: Goal reached!\n",
      "Episode 636.0: Goal reached!\n"
     ]
    },
    {
     "name": "stderr",
     "output_type": "stream",
     "text": [
      "Iteration 12:  76%|███████▌  | 38/50 [00:05<00:01,  6.06it/s, episode=1230, return=542.165]"
     ]
    },
    {
     "name": "stdout",
     "output_type": "stream",
     "text": [
      "Episode 637.0: Goal reached!\n",
      "Episode 638.0: Goal reached!\n"
     ]
    },
    {
     "name": "stderr",
     "output_type": "stream",
     "text": [
      "Iteration 12:  78%|███████▊  | 39/50 [00:05<00:01,  6.12it/s, episode=1230, return=542.165]"
     ]
    },
    {
     "name": "stdout",
     "output_type": "stream",
     "text": [
      "Episode 639.0: Goal reached!\n"
     ]
    },
    {
     "name": "stderr",
     "output_type": "stream",
     "text": [
      "Iteration 12:  82%|████████▏ | 41/50 [00:06<00:01,  5.86it/s, episode=1240, return=541.080]"
     ]
    },
    {
     "name": "stdout",
     "output_type": "stream",
     "text": [
      "Episode 640.0: Goal reached!\n",
      "Episode 641.0: Goal reached!\n"
     ]
    },
    {
     "name": "stderr",
     "output_type": "stream",
     "text": [
      "Iteration 12:  84%|████████▍ | 42/50 [00:06<00:01,  6.06it/s, episode=1240, return=541.080]"
     ]
    },
    {
     "name": "stdout",
     "output_type": "stream",
     "text": [
      "Episode 642.0: Goal reached!\n",
      "Episode 643.0: Goal reached!\n"
     ]
    },
    {
     "name": "stderr",
     "output_type": "stream",
     "text": [
      "Iteration 12:  90%|█████████ | 45/50 [00:06<00:00,  5.75it/s, episode=1240, return=541.080]"
     ]
    },
    {
     "name": "stdout",
     "output_type": "stream",
     "text": [
      "Episode 644.0: Goal reached!\n",
      "Episode 645.0: Goal reached!\n"
     ]
    },
    {
     "name": "stderr",
     "output_type": "stream",
     "text": [
      "Iteration 12:  94%|█████████▍| 47/50 [00:07<00:00,  6.04it/s, episode=1240, return=541.080]"
     ]
    },
    {
     "name": "stdout",
     "output_type": "stream",
     "text": [
      "Episode 646.0: Goal reached!\n",
      "Episode 647.0: Goal reached!\n"
     ]
    },
    {
     "name": "stderr",
     "output_type": "stream",
     "text": [
      "Iteration 12:  98%|█████████▊| 49/50 [00:07<00:00,  6.03it/s, episode=1240, return=541.080]"
     ]
    },
    {
     "name": "stdout",
     "output_type": "stream",
     "text": [
      "Episode 648.0: Goal reached!\n",
      "Episode 649.0: Goal reached!\n"
     ]
    },
    {
     "name": "stderr",
     "output_type": "stream",
     "text": [
      "Iteration 12: 100%|██████████| 50/50 [00:07<00:00,  6.49it/s, episode=1250, return=551.587]\n"
     ]
    },
    {
     "name": "stdout",
     "output_type": "stream",
     "text": [
      "Episode 650.0: Goal reached!\n"
     ]
    },
    {
     "name": "stderr",
     "output_type": "stream",
     "text": [
      "Iteration 13:   2%|▏         | 1/50 [00:00<00:09,  5.33it/s]"
     ]
    },
    {
     "name": "stdout",
     "output_type": "stream",
     "text": [
      "Episode 651.0: Goal reached!\n"
     ]
    },
    {
     "name": "stderr",
     "output_type": "stream",
     "text": [
      "Iteration 13:   4%|▍         | 2/50 [00:00<00:08,  5.79it/s]"
     ]
    },
    {
     "name": "stdout",
     "output_type": "stream",
     "text": [
      "Episode 652.0: Goal reached!\n"
     ]
    },
    {
     "name": "stderr",
     "output_type": "stream",
     "text": [
      "Iteration 13:   6%|▌         | 3/50 [00:00<00:07,  6.11it/s]"
     ]
    },
    {
     "name": "stdout",
     "output_type": "stream",
     "text": [
      "Episode 653.0: Goal reached!\n"
     ]
    },
    {
     "name": "stderr",
     "output_type": "stream",
     "text": [
      "Iteration 13:   8%|▊         | 4/50 [00:00<00:07,  6.48it/s]"
     ]
    },
    {
     "name": "stdout",
     "output_type": "stream",
     "text": [
      "Episode 654.0: Goal reached!\n"
     ]
    },
    {
     "name": "stderr",
     "output_type": "stream",
     "text": [
      "Iteration 13:  10%|█         | 5/50 [00:00<00:07,  6.29it/s]"
     ]
    },
    {
     "name": "stdout",
     "output_type": "stream",
     "text": [
      "Episode 655.0: Goal reached!\n"
     ]
    },
    {
     "name": "stderr",
     "output_type": "stream",
     "text": [
      "Iteration 13:  12%|█▏        | 6/50 [00:00<00:06,  6.46it/s]"
     ]
    },
    {
     "name": "stdout",
     "output_type": "stream",
     "text": [
      "Episode 656.0: Goal reached!\n"
     ]
    },
    {
     "name": "stderr",
     "output_type": "stream",
     "text": [
      "Iteration 13:  14%|█▍        | 7/50 [00:01<00:06,  6.61it/s]"
     ]
    },
    {
     "name": "stdout",
     "output_type": "stream",
     "text": [
      "Episode 657.0: Goal reached!\n"
     ]
    },
    {
     "name": "stderr",
     "output_type": "stream",
     "text": [
      "Iteration 13:  16%|█▌        | 8/50 [00:01<00:06,  6.48it/s]"
     ]
    },
    {
     "name": "stdout",
     "output_type": "stream",
     "text": [
      "Episode 658.0: Goal reached!\n"
     ]
    },
    {
     "name": "stderr",
     "output_type": "stream",
     "text": [
      "Iteration 13:  18%|█▊        | 9/50 [00:01<00:06,  6.66it/s]"
     ]
    },
    {
     "name": "stdout",
     "output_type": "stream",
     "text": [
      "Episode 659.0: Goal reached!\n"
     ]
    },
    {
     "name": "stderr",
     "output_type": "stream",
     "text": [
      "Iteration 13:  20%|██        | 10/50 [00:01<00:05,  6.69it/s, episode=1310, return=548.013]"
     ]
    },
    {
     "name": "stdout",
     "output_type": "stream",
     "text": [
      "Episode 660.0: Goal reached!\n"
     ]
    },
    {
     "name": "stderr",
     "output_type": "stream",
     "text": [
      "Iteration 13:  22%|██▏       | 11/50 [00:01<00:05,  6.68it/s, episode=1310, return=548.013]"
     ]
    },
    {
     "name": "stdout",
     "output_type": "stream",
     "text": [
      "Episode 661.0: Goal reached!\n",
      "Episode 662.0: Goal reached!"
     ]
    },
    {
     "name": "stderr",
     "output_type": "stream",
     "text": [
      "Iteration 13:  26%|██▌       | 13/50 [00:02<00:05,  6.35it/s, episode=1310, return=548.013]"
     ]
    },
    {
     "name": "stdout",
     "output_type": "stream",
     "text": [
      "\n",
      "Episode 663.0: Goal reached!\n"
     ]
    },
    {
     "name": "stderr",
     "output_type": "stream",
     "text": [
      "Iteration 13:  30%|███       | 15/50 [00:02<00:05,  6.24it/s, episode=1310, return=548.013]"
     ]
    },
    {
     "name": "stdout",
     "output_type": "stream",
     "text": [
      "Episode 664.0: Goal reached!\n",
      "Episode 665.0: Goal reached!\n"
     ]
    },
    {
     "name": "stderr",
     "output_type": "stream",
     "text": [
      "Iteration 13:  34%|███▍      | 17/50 [00:02<00:05,  6.42it/s, episode=1310, return=548.013]"
     ]
    },
    {
     "name": "stdout",
     "output_type": "stream",
     "text": [
      "Episode 666.0: Goal reached!\n",
      "Episode 667.0: Goal reached!\n"
     ]
    },
    {
     "name": "stderr",
     "output_type": "stream",
     "text": [
      "Iteration 13:  38%|███▊      | 19/50 [00:02<00:04,  6.73it/s, episode=1310, return=548.013]"
     ]
    },
    {
     "name": "stdout",
     "output_type": "stream",
     "text": [
      "Episode 668.0: Goal reached!\n",
      "Episode 669.0: Goal reached!\n"
     ]
    },
    {
     "name": "stderr",
     "output_type": "stream",
     "text": [
      "Iteration 13:  42%|████▏     | 21/50 [00:03<00:04,  6.57it/s, episode=1320, return=541.155]"
     ]
    },
    {
     "name": "stdout",
     "output_type": "stream",
     "text": [
      "Episode 670.0: Goal reached!\n",
      "Episode 671.0: Goal reached!\n"
     ]
    },
    {
     "name": "stderr",
     "output_type": "stream",
     "text": [
      "Iteration 13:  46%|████▌     | 23/50 [00:03<00:04,  6.60it/s, episode=1320, return=541.155]"
     ]
    },
    {
     "name": "stdout",
     "output_type": "stream",
     "text": [
      "Episode 672.0: Goal reached!\n",
      "Episode 673.0: Goal reached!\n"
     ]
    },
    {
     "name": "stderr",
     "output_type": "stream",
     "text": [
      "Iteration 13:  50%|█████     | 25/50 [00:03<00:03,  6.41it/s, episode=1320, return=541.155]"
     ]
    },
    {
     "name": "stdout",
     "output_type": "stream",
     "text": [
      "Episode 674.0: Goal reached!\n",
      "Episode 675.0: Goal reached!\n"
     ]
    },
    {
     "name": "stderr",
     "output_type": "stream",
     "text": [
      "Iteration 13:  54%|█████▍    | 27/50 [00:04<00:03,  6.55it/s, episode=1320, return=541.155]"
     ]
    },
    {
     "name": "stdout",
     "output_type": "stream",
     "text": [
      "Episode 676.0: Goal reached!\n",
      "Episode 677.0: Goal reached!\n"
     ]
    },
    {
     "name": "stderr",
     "output_type": "stream",
     "text": [
      "Iteration 13:  58%|█████▊    | 29/50 [00:04<00:03,  6.69it/s, episode=1320, return=541.155]"
     ]
    },
    {
     "name": "stdout",
     "output_type": "stream",
     "text": [
      "Episode 678.0: Goal reached!\n",
      "Episode 679.0: Goal reached!\n"
     ]
    },
    {
     "name": "stderr",
     "output_type": "stream",
     "text": [
      "Iteration 13:  62%|██████▏   | 31/50 [00:04<00:02,  6.71it/s, episode=1330, return=542.688]"
     ]
    },
    {
     "name": "stdout",
     "output_type": "stream",
     "text": [
      "Episode 680.0: Goal reached!\n",
      "Episode 681.0: Goal reached!\n"
     ]
    },
    {
     "name": "stderr",
     "output_type": "stream",
     "text": [
      "Iteration 13:  66%|██████▌   | 33/50 [00:05<00:02,  6.92it/s, episode=1330, return=542.688]"
     ]
    },
    {
     "name": "stdout",
     "output_type": "stream",
     "text": [
      "Episode 682.0: Goal reached!\n",
      "Episode 683.0: Goal reached!\n"
     ]
    },
    {
     "name": "stderr",
     "output_type": "stream",
     "text": [
      "Iteration 13:  70%|███████   | 35/50 [00:05<00:02,  7.04it/s, episode=1330, return=542.688]"
     ]
    },
    {
     "name": "stdout",
     "output_type": "stream",
     "text": [
      "Episode 684.0: Goal reached!\n",
      "Episode 685.0: Goal reached!\n"
     ]
    },
    {
     "name": "stderr",
     "output_type": "stream",
     "text": [
      "Iteration 13:  74%|███████▍  | 37/50 [00:05<00:01,  6.89it/s, episode=1330, return=542.688]"
     ]
    },
    {
     "name": "stdout",
     "output_type": "stream",
     "text": [
      "Episode 686.0: Goal reached!\n",
      "Episode 687.0: Goal reached!\n"
     ]
    },
    {
     "name": "stderr",
     "output_type": "stream",
     "text": [
      "Iteration 13:  78%|███████▊  | 39/50 [00:05<00:01,  6.61it/s, episode=1330, return=542.688]"
     ]
    },
    {
     "name": "stdout",
     "output_type": "stream",
     "text": [
      "Episode 688.0: Goal reached!\n",
      "Episode 689.0: Goal reached!\n"
     ]
    },
    {
     "name": "stderr",
     "output_type": "stream",
     "text": [
      "Iteration 13:  80%|████████  | 40/50 [00:06<00:01,  6.72it/s, episode=1340, return=544.959]"
     ]
    },
    {
     "name": "stdout",
     "output_type": "stream",
     "text": [
      "Episode 690.0: Goal reached!\n",
      "Episode 691.0: Goal reached!\n"
     ]
    },
    {
     "name": "stderr",
     "output_type": "stream",
     "text": [
      "Iteration 13:  86%|████████▌ | 43/50 [00:06<00:01,  6.38it/s, episode=1340, return=544.959]"
     ]
    },
    {
     "name": "stdout",
     "output_type": "stream",
     "text": [
      "Episode 692.0: Goal reached!\n",
      "Episode 693.0: Goal reached!\n"
     ]
    },
    {
     "name": "stderr",
     "output_type": "stream",
     "text": [
      "Iteration 13:  90%|█████████ | 45/50 [00:06<00:00,  6.37it/s, episode=1340, return=544.959]"
     ]
    },
    {
     "name": "stdout",
     "output_type": "stream",
     "text": [
      "Episode 694.0: Goal reached!\n",
      "Episode 695.0: Goal reached!\n"
     ]
    },
    {
     "name": "stderr",
     "output_type": "stream",
     "text": [
      "Iteration 13:  94%|█████████▍| 47/50 [00:07<00:00,  6.42it/s, episode=1340, return=544.959]"
     ]
    },
    {
     "name": "stdout",
     "output_type": "stream",
     "text": [
      "Episode 696.0: Goal reached!\n",
      "Episode 697.0: Goal reached!\n"
     ]
    },
    {
     "name": "stderr",
     "output_type": "stream",
     "text": [
      "Iteration 13:  98%|█████████▊| 49/50 [00:07<00:00,  6.59it/s, episode=1340, return=544.959]"
     ]
    },
    {
     "name": "stdout",
     "output_type": "stream",
     "text": [
      "Episode 698.0: Goal reached!\n",
      "Episode 699.0: Goal reached!\n"
     ]
    },
    {
     "name": "stderr",
     "output_type": "stream",
     "text": [
      "Iteration 13: 100%|██████████| 50/50 [00:07<00:00,  6.53it/s, episode=1350, return=544.201]\n"
     ]
    },
    {
     "name": "stdout",
     "output_type": "stream",
     "text": [
      "Episode 700.0: Goal reached!\n"
     ]
    },
    {
     "name": "stderr",
     "output_type": "stream",
     "text": [
      "Iteration 14:   4%|▍         | 2/50 [00:00<00:08,  5.84it/s]"
     ]
    },
    {
     "name": "stdout",
     "output_type": "stream",
     "text": [
      "Episode 701.0: Goal reached!\n",
      "Episode 702.0: Goal reached!\n"
     ]
    },
    {
     "name": "stderr",
     "output_type": "stream",
     "text": [
      "Iteration 14:   8%|▊         | 4/50 [00:00<00:07,  6.25it/s]"
     ]
    },
    {
     "name": "stdout",
     "output_type": "stream",
     "text": [
      "Episode 703.0: Goal reached!\n",
      "Episode 704.0: Goal reached!\n"
     ]
    },
    {
     "name": "stderr",
     "output_type": "stream",
     "text": [
      "Iteration 14:  12%|█▏        | 6/50 [00:00<00:06,  6.34it/s]"
     ]
    },
    {
     "name": "stdout",
     "output_type": "stream",
     "text": [
      "Episode 705.0: Goal reached!\n",
      "Episode 706.0: Goal reached!\n"
     ]
    },
    {
     "name": "stderr",
     "output_type": "stream",
     "text": [
      "Iteration 14:  16%|█▌        | 8/50 [00:01<00:06,  6.58it/s]"
     ]
    },
    {
     "name": "stdout",
     "output_type": "stream",
     "text": [
      "Episode 707.0: Goal reached!\n",
      "Episode 708.0: Goal reached!\n"
     ]
    },
    {
     "name": "stderr",
     "output_type": "stream",
     "text": [
      "Iteration 14:  20%|██        | 10/50 [00:01<00:06,  6.59it/s, episode=1410, return=541.254]"
     ]
    },
    {
     "name": "stdout",
     "output_type": "stream",
     "text": [
      "Episode 709.0: Goal reached!\n",
      "Episode 710.0: Goal reached!\n"
     ]
    },
    {
     "name": "stderr",
     "output_type": "stream",
     "text": [
      "Iteration 14:  24%|██▍       | 12/50 [00:01<00:06,  6.19it/s, episode=1410, return=541.254]"
     ]
    },
    {
     "name": "stdout",
     "output_type": "stream",
     "text": [
      "Episode 711.0: Goal reached!\n",
      "Episode 712.0: Goal reached!\n"
     ]
    },
    {
     "name": "stderr",
     "output_type": "stream",
     "text": [
      "Iteration 14:  28%|██▊       | 14/50 [00:02<00:05,  6.64it/s, episode=1410, return=541.254]"
     ]
    },
    {
     "name": "stdout",
     "output_type": "stream",
     "text": [
      "Episode 713.0: Goal reached!\n",
      "Episode 714.0: Goal reached!\n"
     ]
    },
    {
     "name": "stderr",
     "output_type": "stream",
     "text": [
      "Iteration 14:  32%|███▏      | 16/50 [00:02<00:05,  6.38it/s, episode=1410, return=541.254]"
     ]
    },
    {
     "name": "stdout",
     "output_type": "stream",
     "text": [
      "Episode 715.0: Goal reached!\n",
      "Episode 716.0: Goal reached!\n"
     ]
    },
    {
     "name": "stderr",
     "output_type": "stream",
     "text": [
      "Iteration 14:  36%|███▌      | 18/50 [00:02<00:05,  6.35it/s, episode=1410, return=541.254]"
     ]
    },
    {
     "name": "stdout",
     "output_type": "stream",
     "text": [
      "Episode 717.0: Goal reached!\n",
      "Episode 718.0: Goal reached!\n"
     ]
    },
    {
     "name": "stderr",
     "output_type": "stream",
     "text": [
      "Iteration 14:  40%|████      | 20/50 [00:03<00:04,  6.36it/s, episode=1420, return=542.538]"
     ]
    },
    {
     "name": "stdout",
     "output_type": "stream",
     "text": [
      "Episode 719.0: Goal reached!\n",
      "Episode 720.0: Goal reached!\n"
     ]
    },
    {
     "name": "stderr",
     "output_type": "stream",
     "text": [
      "Iteration 14:  44%|████▍     | 22/50 [00:03<00:04,  6.23it/s, episode=1420, return=542.538]"
     ]
    },
    {
     "name": "stdout",
     "output_type": "stream",
     "text": [
      "Episode 721.0: Goal reached!\n",
      "Episode 722.0: Goal reached!\n"
     ]
    },
    {
     "name": "stderr",
     "output_type": "stream",
     "text": [
      "Iteration 14:  48%|████▊     | 24/50 [00:03<00:04,  6.25it/s, episode=1420, return=542.538]"
     ]
    },
    {
     "name": "stdout",
     "output_type": "stream",
     "text": [
      "Episode 723.0: Goal reached!\n",
      "Episode 724.0: Goal reached!\n"
     ]
    },
    {
     "name": "stderr",
     "output_type": "stream",
     "text": [
      "Iteration 14:  52%|█████▏    | 26/50 [00:04<00:03,  6.31it/s, episode=1420, return=542.538]"
     ]
    },
    {
     "name": "stdout",
     "output_type": "stream",
     "text": [
      "Episode 725.0: Goal reached!\n",
      "Episode 726.0: Goal reached!\n"
     ]
    },
    {
     "name": "stderr",
     "output_type": "stream",
     "text": [
      "Iteration 14:  56%|█████▌    | 28/50 [00:04<00:03,  6.36it/s, episode=1420, return=542.538]"
     ]
    },
    {
     "name": "stdout",
     "output_type": "stream",
     "text": [
      "Episode 727.0: Goal reached!\n",
      "Episode 728.0: Goal reached!\n"
     ]
    },
    {
     "name": "stderr",
     "output_type": "stream",
     "text": [
      "Iteration 14:  60%|██████    | 30/50 [00:04<00:03,  6.24it/s, episode=1430, return=540.325]"
     ]
    },
    {
     "name": "stdout",
     "output_type": "stream",
     "text": [
      "Episode 729.0: Goal reached!\n",
      "Episode 730.0: Goal reached!\n"
     ]
    },
    {
     "name": "stderr",
     "output_type": "stream",
     "text": [
      "Iteration 14:  64%|██████▍   | 32/50 [00:05<00:02,  6.37it/s, episode=1430, return=540.325]"
     ]
    },
    {
     "name": "stdout",
     "output_type": "stream",
     "text": [
      "Episode 731.0: Goal reached!\n",
      "Episode 732.0: Goal reached!\n"
     ]
    },
    {
     "name": "stderr",
     "output_type": "stream",
     "text": [
      "Iteration 14:  68%|██████▊   | 34/50 [00:05<00:02,  6.46it/s, episode=1430, return=540.325]"
     ]
    },
    {
     "name": "stdout",
     "output_type": "stream",
     "text": [
      "Episode 733.0: Goal reached!\n",
      "Episode 734.0: Goal reached!\n"
     ]
    },
    {
     "name": "stderr",
     "output_type": "stream",
     "text": [
      "Iteration 14:  72%|███████▏  | 36/50 [00:05<00:02,  6.39it/s, episode=1430, return=540.325]"
     ]
    },
    {
     "name": "stdout",
     "output_type": "stream",
     "text": [
      "Episode 735.0: Goal reached!\n",
      "Episode 736.0: Goal reached!\n"
     ]
    },
    {
     "name": "stderr",
     "output_type": "stream",
     "text": [
      "Iteration 14:  76%|███████▌  | 38/50 [00:05<00:01,  6.48it/s, episode=1430, return=540.325]"
     ]
    },
    {
     "name": "stdout",
     "output_type": "stream",
     "text": [
      "Episode 737.0: Goal reached!\n",
      "Episode 738.0: Goal reached!\n"
     ]
    },
    {
     "name": "stderr",
     "output_type": "stream",
     "text": [
      "Iteration 14:  80%|████████  | 40/50 [00:06<00:01,  6.11it/s, episode=1440, return=539.436]"
     ]
    },
    {
     "name": "stdout",
     "output_type": "stream",
     "text": [
      "Episode 739.0: Goal reached!\n",
      "Episode 740.0: Goal reached!\n"
     ]
    },
    {
     "name": "stderr",
     "output_type": "stream",
     "text": [
      "Iteration 14:  84%|████████▍ | 42/50 [00:06<00:01,  6.54it/s, episode=1440, return=539.436]"
     ]
    },
    {
     "name": "stdout",
     "output_type": "stream",
     "text": [
      "Episode 741.0: Goal reached!\n",
      "Episode 742.0: Goal reached!\n"
     ]
    },
    {
     "name": "stderr",
     "output_type": "stream",
     "text": [
      "Iteration 14:  88%|████████▊ | 44/50 [00:06<00:00,  6.43it/s, episode=1440, return=539.436]"
     ]
    },
    {
     "name": "stdout",
     "output_type": "stream",
     "text": [
      "Episode 743.0: Goal reached!\n",
      "Episode 744.0: Goal reached!\n"
     ]
    },
    {
     "name": "stderr",
     "output_type": "stream",
     "text": [
      "Iteration 14:  92%|█████████▏| 46/50 [00:07<00:00,  6.49it/s, episode=1440, return=539.436]"
     ]
    },
    {
     "name": "stdout",
     "output_type": "stream",
     "text": [
      "Episode 745.0: Goal reached!\n",
      "Episode 746.0: Goal reached!\n"
     ]
    },
    {
     "name": "stderr",
     "output_type": "stream",
     "text": [
      "Iteration 14:  96%|█████████▌| 48/50 [00:07<00:00,  6.62it/s, episode=1440, return=539.436]"
     ]
    },
    {
     "name": "stdout",
     "output_type": "stream",
     "text": [
      "Episode 747.0: Goal reached!\n",
      "Episode 748.0: Goal reached!\n"
     ]
    },
    {
     "name": "stderr",
     "output_type": "stream",
     "text": [
      "Iteration 14: 100%|██████████| 50/50 [00:07<00:00,  6.36it/s, episode=1450, return=536.711]\n"
     ]
    },
    {
     "name": "stdout",
     "output_type": "stream",
     "text": [
      "Episode 749.0: Goal reached!\n",
      "Episode 750.0: Goal reached!\n"
     ]
    },
    {
     "name": "stderr",
     "output_type": "stream",
     "text": [
      "Iteration 15:   4%|▍         | 2/50 [00:00<00:08,  5.81it/s]"
     ]
    },
    {
     "name": "stdout",
     "output_type": "stream",
     "text": [
      "Episode 751.0: Goal reached!\n",
      "Episode 752.0: Goal reached!\n"
     ]
    },
    {
     "name": "stderr",
     "output_type": "stream",
     "text": [
      "Iteration 15:   8%|▊         | 4/50 [00:00<00:07,  6.25it/s]"
     ]
    },
    {
     "name": "stdout",
     "output_type": "stream",
     "text": [
      "Episode 753.0: Goal reached!\n",
      "Episode 754.0: Goal reached!\n"
     ]
    },
    {
     "name": "stderr",
     "output_type": "stream",
     "text": [
      "Iteration 15:  12%|█▏        | 6/50 [00:00<00:06,  6.38it/s]"
     ]
    },
    {
     "name": "stdout",
     "output_type": "stream",
     "text": [
      "Episode 755.0: Goal reached!\n",
      "Episode 756.0: Goal reached!\n"
     ]
    },
    {
     "name": "stderr",
     "output_type": "stream",
     "text": [
      "Iteration 15:  16%|█▌        | 8/50 [00:01<00:06,  6.49it/s]"
     ]
    },
    {
     "name": "stdout",
     "output_type": "stream",
     "text": [
      "Episode 757.0: Goal reached!\n",
      "Episode 758.0: Goal reached!\n"
     ]
    },
    {
     "name": "stderr",
     "output_type": "stream",
     "text": [
      "Iteration 15:  20%|██        | 10/50 [00:01<00:06,  6.52it/s, episode=1510, return=542.113]"
     ]
    },
    {
     "name": "stdout",
     "output_type": "stream",
     "text": [
      "Episode 759.0: Goal reached!\n",
      "Episode 760.0: Goal reached!\n"
     ]
    },
    {
     "name": "stderr",
     "output_type": "stream",
     "text": [
      "Iteration 15:  24%|██▍       | 12/50 [00:01<00:05,  6.74it/s, episode=1510, return=542.113]"
     ]
    },
    {
     "name": "stdout",
     "output_type": "stream",
     "text": [
      "Episode 761.0: Goal reached!\n",
      "Episode 762.0: Goal reached!\n"
     ]
    },
    {
     "name": "stderr",
     "output_type": "stream",
     "text": [
      "Iteration 15:  28%|██▊       | 14/50 [00:02<00:05,  6.44it/s, episode=1510, return=542.113]"
     ]
    },
    {
     "name": "stdout",
     "output_type": "stream",
     "text": [
      "Episode 763.0: Goal reached!\n",
      "Episode 764.0: Goal reached!\n"
     ]
    },
    {
     "name": "stderr",
     "output_type": "stream",
     "text": [
      "Iteration 15:  32%|███▏      | 16/50 [00:02<00:05,  6.12it/s, episode=1510, return=542.113]"
     ]
    },
    {
     "name": "stdout",
     "output_type": "stream",
     "text": [
      "Episode 765.0: Goal reached!\n",
      "Episode 766.0: Goal reached!\n"
     ]
    },
    {
     "name": "stderr",
     "output_type": "stream",
     "text": [
      "Iteration 15:  36%|███▌      | 18/50 [00:02<00:05,  6.12it/s, episode=1510, return=542.113]"
     ]
    },
    {
     "name": "stdout",
     "output_type": "stream",
     "text": [
      "Episode 767.0: Goal reached!\n",
      "Episode 768.0: Goal reached!\n"
     ]
    },
    {
     "name": "stderr",
     "output_type": "stream",
     "text": [
      "Iteration 15:  38%|███▊      | 19/50 [00:03<00:05,  6.13it/s, episode=1520, return=534.788]"
     ]
    },
    {
     "name": "stdout",
     "output_type": "stream",
     "text": [
      "Episode 769.0: Goal reached!\n",
      "Episode 770.0: Goal reached!\n"
     ]
    },
    {
     "name": "stderr",
     "output_type": "stream",
     "text": [
      "Iteration 15:  44%|████▍     | 22/50 [00:03<00:04,  5.77it/s, episode=1520, return=534.788]"
     ]
    },
    {
     "name": "stdout",
     "output_type": "stream",
     "text": [
      "Episode 771.0: Goal reached!\n",
      "Episode 772.0: Goal reached!\n"
     ]
    },
    {
     "name": "stderr",
     "output_type": "stream",
     "text": [
      "Iteration 15:  46%|████▌     | 23/50 [00:03<00:04,  5.79it/s, episode=1520, return=534.788]"
     ]
    },
    {
     "name": "stdout",
     "output_type": "stream",
     "text": [
      "Episode 773.0: Goal reached!\n",
      "Episode 774.0: Goal reached!\n"
     ]
    },
    {
     "name": "stderr",
     "output_type": "stream",
     "text": [
      "Iteration 15:  52%|█████▏    | 26/50 [00:04<00:04,  5.70it/s, episode=1520, return=534.788]"
     ]
    },
    {
     "name": "stdout",
     "output_type": "stream",
     "text": [
      "Episode 775.0: Goal reached!\n",
      "Episode 776.0: Goal reached!\n"
     ]
    },
    {
     "name": "stderr",
     "output_type": "stream",
     "text": [
      "Iteration 15:  56%|█████▌    | 28/50 [00:04<00:03,  5.68it/s, episode=1520, return=534.788]"
     ]
    },
    {
     "name": "stdout",
     "output_type": "stream",
     "text": [
      "Episode 777.0: Goal reached!\n",
      "Episode 778.0: Goal reached!\n"
     ]
    },
    {
     "name": "stderr",
     "output_type": "stream",
     "text": [
      "Iteration 15:  60%|██████    | 30/50 [00:04<00:03,  6.02it/s, episode=1530, return=546.070]"
     ]
    },
    {
     "name": "stdout",
     "output_type": "stream",
     "text": [
      "Episode 779.0: Goal reached!\n",
      "Episode 780.0: Goal reached!\n"
     ]
    },
    {
     "name": "stderr",
     "output_type": "stream",
     "text": [
      "Iteration 15:  64%|██████▍   | 32/50 [00:05<00:02,  6.29it/s, episode=1530, return=546.070]"
     ]
    },
    {
     "name": "stdout",
     "output_type": "stream",
     "text": [
      "Episode 781.0: Goal reached!\n",
      "Episode 782.0: Goal reached!\n"
     ]
    },
    {
     "name": "stderr",
     "output_type": "stream",
     "text": [
      "Iteration 15:  68%|██████▊   | 34/50 [00:05<00:02,  6.04it/s, episode=1530, return=546.070]"
     ]
    },
    {
     "name": "stdout",
     "output_type": "stream",
     "text": [
      "Episode 783.0: Goal reached!\n",
      "Episode 784.0: Goal reached!\n"
     ]
    },
    {
     "name": "stderr",
     "output_type": "stream",
     "text": [
      "Iteration 15:  72%|███████▏  | 36/50 [00:05<00:02,  6.05it/s, episode=1530, return=546.070]"
     ]
    },
    {
     "name": "stdout",
     "output_type": "stream",
     "text": [
      "Episode 785.0: Goal reached!\n",
      "Episode 786.0: Goal reached!\n"
     ]
    },
    {
     "name": "stderr",
     "output_type": "stream",
     "text": [
      "Iteration 15:  76%|███████▌  | 38/50 [00:06<00:02,  5.98it/s, episode=1530, return=546.070]"
     ]
    },
    {
     "name": "stdout",
     "output_type": "stream",
     "text": [
      "Episode 787.0: Goal reached!\n",
      "Episode 788.0: Goal reached!\n"
     ]
    },
    {
     "name": "stderr",
     "output_type": "stream",
     "text": [
      "Iteration 15:  78%|███████▊  | 39/50 [00:06<00:01,  5.99it/s, episode=1540, return=536.714]"
     ]
    },
    {
     "name": "stdout",
     "output_type": "stream",
     "text": [
      "Episode 789.0: Goal reached!\n",
      "Episode 790.0: Goal reached!\n"
     ]
    },
    {
     "name": "stderr",
     "output_type": "stream",
     "text": [
      "Iteration 15:  84%|████████▍ | 42/50 [00:06<00:01,  5.85it/s, episode=1540, return=536.714]"
     ]
    },
    {
     "name": "stdout",
     "output_type": "stream",
     "text": [
      "Episode 791.0: Goal reached!\n",
      "Episode 792.0: Goal reached!\n"
     ]
    },
    {
     "name": "stderr",
     "output_type": "stream",
     "text": [
      "Iteration 15:  86%|████████▌ | 43/50 [00:07<00:01,  5.95it/s, episode=1540, return=536.714]"
     ]
    },
    {
     "name": "stdout",
     "output_type": "stream",
     "text": [
      "Episode 793.0: Goal reached!\n",
      "Episode 794.0: Goal reached!\n"
     ]
    },
    {
     "name": "stderr",
     "output_type": "stream",
     "text": [
      "Iteration 15:  92%|█████████▏| 46/50 [00:07<00:00,  5.68it/s, episode=1540, return=536.714]"
     ]
    },
    {
     "name": "stdout",
     "output_type": "stream",
     "text": [
      "Episode 795.0: Goal reached!\n",
      "Episode 796.0: Goal reached!\n"
     ]
    },
    {
     "name": "stderr",
     "output_type": "stream",
     "text": [
      "Iteration 15:  96%|█████████▌| 48/50 [00:07<00:00,  6.27it/s, episode=1540, return=536.714]"
     ]
    },
    {
     "name": "stdout",
     "output_type": "stream",
     "text": [
      "Episode 797.0: Goal reached!\n",
      "Episode 798.0: Goal reached!\n"
     ]
    },
    {
     "name": "stderr",
     "output_type": "stream",
     "text": [
      "Iteration 15:  98%|█████████▊| 49/50 [00:08<00:00,  6.24it/s, episode=1550, return=536.379]"
     ]
    },
    {
     "name": "stdout",
     "output_type": "stream",
     "text": [
      "Episode 799.0: Goal reached!\n",
      "Episode 800.0: Goal reached!\n"
     ]
    },
    {
     "name": "stderr",
     "output_type": "stream",
     "text": [
      "Iteration 15: 100%|██████████| 50/50 [00:08<00:00,  6.02it/s, episode=1550, return=536.379]\n",
      "Iteration 16:   4%|▍         | 2/50 [00:00<00:07,  6.64it/s]"
     ]
    },
    {
     "name": "stdout",
     "output_type": "stream",
     "text": [
      "Episode 801.0: Goal reached!\n",
      "Episode 802.0: Goal reached!\n"
     ]
    },
    {
     "name": "stderr",
     "output_type": "stream",
     "text": [
      "Iteration 16:   8%|▊         | 4/50 [00:00<00:07,  6.37it/s]"
     ]
    },
    {
     "name": "stdout",
     "output_type": "stream",
     "text": [
      "Episode 803.0: Goal reached!\n",
      "Episode 804.0: Goal reached!\n"
     ]
    },
    {
     "name": "stderr",
     "output_type": "stream",
     "text": [
      "Iteration 16:  12%|█▏        | 6/50 [00:00<00:06,  6.42it/s]"
     ]
    },
    {
     "name": "stdout",
     "output_type": "stream",
     "text": [
      "Episode 805.0: Goal reached!\n",
      "Episode 806.0: Goal reached!\n"
     ]
    },
    {
     "name": "stderr",
     "output_type": "stream",
     "text": [
      "Iteration 16:  16%|█▌        | 8/50 [00:01<00:06,  6.29it/s]"
     ]
    },
    {
     "name": "stdout",
     "output_type": "stream",
     "text": [
      "Episode 807.0: Goal reached!\n",
      "Episode 808.0: Goal reached!\n"
     ]
    },
    {
     "name": "stderr",
     "output_type": "stream",
     "text": [
      "Iteration 16:  20%|██        | 10/50 [00:01<00:06,  6.66it/s, episode=1610, return=547.547]"
     ]
    },
    {
     "name": "stdout",
     "output_type": "stream",
     "text": [
      "Episode 809.0: Goal reached!\n",
      "Episode 810.0: Goal reached!\n"
     ]
    },
    {
     "name": "stderr",
     "output_type": "stream",
     "text": [
      "Iteration 16:  24%|██▍       | 12/50 [00:01<00:06,  5.84it/s, episode=1610, return=547.547]"
     ]
    },
    {
     "name": "stdout",
     "output_type": "stream",
     "text": [
      "Episode 811.0: Goal reached!\n",
      "Episode 812.0: Goal reached!\n"
     ]
    },
    {
     "name": "stderr",
     "output_type": "stream",
     "text": [
      "Iteration 16:  28%|██▊       | 14/50 [00:02<00:05,  6.18it/s, episode=1610, return=547.547]"
     ]
    },
    {
     "name": "stdout",
     "output_type": "stream",
     "text": [
      "Episode 813.0: Goal reached!\n",
      "Episode 814.0: Goal reached!\n"
     ]
    },
    {
     "name": "stderr",
     "output_type": "stream",
     "text": [
      "Iteration 16:  32%|███▏      | 16/50 [00:02<00:05,  6.52it/s, episode=1610, return=547.547]"
     ]
    },
    {
     "name": "stdout",
     "output_type": "stream",
     "text": [
      "Episode 815.0: Goal reached!\n",
      "Episode 816.0: Goal reached!\n"
     ]
    },
    {
     "name": "stderr",
     "output_type": "stream",
     "text": [
      "Iteration 16:  36%|███▌      | 18/50 [00:02<00:04,  6.55it/s, episode=1610, return=547.547]"
     ]
    },
    {
     "name": "stdout",
     "output_type": "stream",
     "text": [
      "Episode 817.0: Goal reached!\n",
      "Episode 818.0: Goal reached!\n"
     ]
    },
    {
     "name": "stderr",
     "output_type": "stream",
     "text": [
      "Iteration 16:  40%|████      | 20/50 [00:03<00:04,  6.62it/s, episode=1620, return=537.506]"
     ]
    },
    {
     "name": "stdout",
     "output_type": "stream",
     "text": [
      "Episode 819.0: Goal reached!\n",
      "Episode 820.0: Goal reached!\n"
     ]
    },
    {
     "name": "stderr",
     "output_type": "stream",
     "text": [
      "Iteration 16:  44%|████▍     | 22/50 [00:03<00:04,  6.72it/s, episode=1620, return=537.506]"
     ]
    },
    {
     "name": "stdout",
     "output_type": "stream",
     "text": [
      "Episode 821.0: Goal reached!\n",
      "Episode 822.0: Goal reached!\n"
     ]
    },
    {
     "name": "stderr",
     "output_type": "stream",
     "text": [
      "Iteration 16:  48%|████▊     | 24/50 [00:03<00:04,  6.49it/s, episode=1620, return=537.506]"
     ]
    },
    {
     "name": "stdout",
     "output_type": "stream",
     "text": [
      "Episode 823.0: Goal reached!\n",
      "Episode 824.0: Goal reached!\n"
     ]
    },
    {
     "name": "stderr",
     "output_type": "stream",
     "text": [
      "Iteration 16:  52%|█████▏    | 26/50 [00:04<00:03,  6.56it/s, episode=1620, return=537.506]"
     ]
    },
    {
     "name": "stdout",
     "output_type": "stream",
     "text": [
      "Episode 825.0: Goal reached!\n",
      "Episode 826.0: Goal reached!\n"
     ]
    },
    {
     "name": "stderr",
     "output_type": "stream",
     "text": [
      "Iteration 16:  56%|█████▌    | 28/50 [00:04<00:03,  6.75it/s, episode=1620, return=537.506]"
     ]
    },
    {
     "name": "stdout",
     "output_type": "stream",
     "text": [
      "Episode 827.0: Goal reached!\n",
      "Episode 828.0: Goal reached!\n"
     ]
    },
    {
     "name": "stderr",
     "output_type": "stream",
     "text": [
      "Iteration 16:  60%|██████    | 30/50 [00:04<00:03,  6.59it/s, episode=1630, return=544.525]"
     ]
    },
    {
     "name": "stdout",
     "output_type": "stream",
     "text": [
      "Episode 829.0: Goal reached!\n",
      "Episode 830.0: Goal reached!\n"
     ]
    },
    {
     "name": "stderr",
     "output_type": "stream",
     "text": [
      "Iteration 16:  64%|██████▍   | 32/50 [00:04<00:02,  6.66it/s, episode=1630, return=544.525]"
     ]
    },
    {
     "name": "stdout",
     "output_type": "stream",
     "text": [
      "Episode 831.0: Goal reached!\n",
      "Episode 832.0: Goal reached!\n"
     ]
    },
    {
     "name": "stderr",
     "output_type": "stream",
     "text": [
      "Iteration 16:  68%|██████▊   | 34/50 [00:05<00:02,  6.72it/s, episode=1630, return=544.525]"
     ]
    },
    {
     "name": "stdout",
     "output_type": "stream",
     "text": [
      "Episode 833.0: Goal reached!\n",
      "Episode 834.0: Goal reached!\n"
     ]
    },
    {
     "name": "stderr",
     "output_type": "stream",
     "text": [
      "Iteration 16:  72%|███████▏  | 36/50 [00:05<00:02,  6.48it/s, episode=1630, return=544.525]"
     ]
    },
    {
     "name": "stdout",
     "output_type": "stream",
     "text": [
      "Episode 835.0: Goal reached!\n",
      "Episode 836.0: Goal reached!\n"
     ]
    },
    {
     "name": "stderr",
     "output_type": "stream",
     "text": [
      "Iteration 16:  76%|███████▌  | 38/50 [00:05<00:01,  6.61it/s, episode=1630, return=544.525]"
     ]
    },
    {
     "name": "stdout",
     "output_type": "stream",
     "text": [
      "Episode 837.0: Goal reached!\n",
      "Episode 838.0: Goal reached!\n"
     ]
    },
    {
     "name": "stderr",
     "output_type": "stream",
     "text": [
      "Iteration 16:  80%|████████  | 40/50 [00:06<00:01,  6.49it/s, episode=1640, return=540.683]"
     ]
    },
    {
     "name": "stdout",
     "output_type": "stream",
     "text": [
      "Episode 839.0: Goal reached!\n",
      "Episode 840.0: Goal reached!\n"
     ]
    },
    {
     "name": "stderr",
     "output_type": "stream",
     "text": [
      "Iteration 16:  84%|████████▍ | 42/50 [00:06<00:01,  6.43it/s, episode=1640, return=540.683]"
     ]
    },
    {
     "name": "stdout",
     "output_type": "stream",
     "text": [
      "Episode 841.0: Goal reached!\n",
      "Episode 842.0: Goal reached!\n"
     ]
    },
    {
     "name": "stderr",
     "output_type": "stream",
     "text": [
      "Iteration 16:  88%|████████▊ | 44/50 [00:06<00:00,  6.54it/s, episode=1640, return=540.683]"
     ]
    },
    {
     "name": "stdout",
     "output_type": "stream",
     "text": [
      "Episode 843.0: Goal reached!\n",
      "Episode 844.0: Goal reached!\n"
     ]
    },
    {
     "name": "stderr",
     "output_type": "stream",
     "text": [
      "Iteration 16:  92%|█████████▏| 46/50 [00:07<00:00,  6.44it/s, episode=1640, return=540.683]"
     ]
    },
    {
     "name": "stdout",
     "output_type": "stream",
     "text": [
      "Episode 845.0: Goal reached!\n",
      "Episode 846.0: Goal reached!\n"
     ]
    },
    {
     "name": "stderr",
     "output_type": "stream",
     "text": [
      "Iteration 16:  94%|█████████▍| 47/50 [00:07<00:00,  6.15it/s, episode=1640, return=540.683]"
     ]
    },
    {
     "name": "stdout",
     "output_type": "stream",
     "text": [
      "Episode 847.0: Goal reached!\n",
      "Episode 848.0: Goal reached!\n"
     ]
    },
    {
     "name": "stderr",
     "output_type": "stream",
     "text": [
      "Iteration 16: 100%|██████████| 50/50 [00:07<00:00,  6.45it/s, episode=1650, return=540.674]\n"
     ]
    },
    {
     "name": "stdout",
     "output_type": "stream",
     "text": [
      "Episode 849.0: Goal reached!\n",
      "Episode 850.0: Goal reached!\n"
     ]
    },
    {
     "name": "stderr",
     "output_type": "stream",
     "text": [
      "Iteration 17:   4%|▍         | 2/50 [00:00<00:07,  6.68it/s]"
     ]
    },
    {
     "name": "stdout",
     "output_type": "stream",
     "text": [
      "Episode 851.0: Goal reached!\n",
      "Episode 852.0: Goal reached!\n"
     ]
    },
    {
     "name": "stderr",
     "output_type": "stream",
     "text": [
      "Iteration 17:   8%|▊         | 4/50 [00:00<00:06,  6.82it/s]"
     ]
    },
    {
     "name": "stdout",
     "output_type": "stream",
     "text": [
      "Episode 853.0: Goal reached!\n",
      "Episode 854.0: Goal reached!\n"
     ]
    },
    {
     "name": "stderr",
     "output_type": "stream",
     "text": [
      "Iteration 17:  12%|█▏        | 6/50 [00:00<00:06,  6.53it/s]"
     ]
    },
    {
     "name": "stdout",
     "output_type": "stream",
     "text": [
      "Episode 855.0: Goal reached!\n",
      "Episode 856.0: Goal reached!\n"
     ]
    },
    {
     "name": "stderr",
     "output_type": "stream",
     "text": [
      "Iteration 17:  16%|█▌        | 8/50 [00:01<00:06,  6.71it/s]"
     ]
    },
    {
     "name": "stdout",
     "output_type": "stream",
     "text": [
      "Episode 857.0: Goal reached!\n",
      "Episode 858.0: Goal reached!\n"
     ]
    },
    {
     "name": "stderr",
     "output_type": "stream",
     "text": [
      "Iteration 17:  20%|██        | 10/50 [00:01<00:06,  6.39it/s, episode=1710, return=539.029]"
     ]
    },
    {
     "name": "stdout",
     "output_type": "stream",
     "text": [
      "Episode 859.0: Goal reached!\n",
      "Episode 860.0: Goal reached!\n"
     ]
    },
    {
     "name": "stderr",
     "output_type": "stream",
     "text": [
      "Iteration 17:  24%|██▍       | 12/50 [00:01<00:05,  6.49it/s, episode=1710, return=539.029]"
     ]
    },
    {
     "name": "stdout",
     "output_type": "stream",
     "text": [
      "Episode 861.0: Goal reached!\n",
      "Episode 862.0: Goal reached!\n"
     ]
    },
    {
     "name": "stderr",
     "output_type": "stream",
     "text": [
      "Iteration 17:  28%|██▊       | 14/50 [00:02<00:05,  6.54it/s, episode=1710, return=539.029]"
     ]
    },
    {
     "name": "stdout",
     "output_type": "stream",
     "text": [
      "Episode 863.0: Goal reached!\n",
      "Episode 864.0: Goal reached!\n"
     ]
    },
    {
     "name": "stderr",
     "output_type": "stream",
     "text": [
      "Iteration 17:  32%|███▏      | 16/50 [00:02<00:05,  6.73it/s, episode=1710, return=539.029]"
     ]
    },
    {
     "name": "stdout",
     "output_type": "stream",
     "text": [
      "Episode 865.0: Goal reached!\n",
      "Episode 866.0: Goal reached!\n"
     ]
    },
    {
     "name": "stderr",
     "output_type": "stream",
     "text": [
      "Iteration 17:  36%|███▌      | 18/50 [00:02<00:04,  6.76it/s, episode=1710, return=539.029]"
     ]
    },
    {
     "name": "stdout",
     "output_type": "stream",
     "text": [
      "Episode 867.0: Goal reached!\n",
      "Episode 868.0: Goal reached!\n"
     ]
    },
    {
     "name": "stderr",
     "output_type": "stream",
     "text": [
      "Iteration 17:  40%|████      | 20/50 [00:03<00:04,  6.36it/s, episode=1720, return=544.780]"
     ]
    },
    {
     "name": "stdout",
     "output_type": "stream",
     "text": [
      "Episode 869.0: Goal reached!\n",
      "Episode 870.0: Goal reached!\n"
     ]
    },
    {
     "name": "stderr",
     "output_type": "stream",
     "text": [
      "Iteration 17:  44%|████▍     | 22/50 [00:03<00:04,  6.80it/s, episode=1720, return=544.780]"
     ]
    },
    {
     "name": "stdout",
     "output_type": "stream",
     "text": [
      "Episode 871.0: Goal reached!\n",
      "Episode 872.0: Goal reached!\n"
     ]
    },
    {
     "name": "stderr",
     "output_type": "stream",
     "text": [
      "Iteration 17:  48%|████▊     | 24/50 [00:03<00:03,  6.90it/s, episode=1720, return=544.780]"
     ]
    },
    {
     "name": "stdout",
     "output_type": "stream",
     "text": [
      "Episode 873.0: Goal reached!\n",
      "Episode 874.0: Goal reached!\n"
     ]
    },
    {
     "name": "stderr",
     "output_type": "stream",
     "text": [
      "Iteration 17:  52%|█████▏    | 26/50 [00:03<00:03,  6.83it/s, episode=1720, return=544.780]"
     ]
    },
    {
     "name": "stdout",
     "output_type": "stream",
     "text": [
      "Episode 875.0: Goal reached!\n",
      "Episode 876.0: Goal reached!\n"
     ]
    },
    {
     "name": "stderr",
     "output_type": "stream",
     "text": [
      "Iteration 17:  56%|█████▌    | 28/50 [00:04<00:03,  6.80it/s, episode=1720, return=544.780]"
     ]
    },
    {
     "name": "stdout",
     "output_type": "stream",
     "text": [
      "Episode 877.0: Goal reached!\n",
      "Episode 878.0: Goal reached!\n"
     ]
    },
    {
     "name": "stderr",
     "output_type": "stream",
     "text": [
      "Iteration 17:  60%|██████    | 30/50 [00:04<00:03,  6.46it/s, episode=1730, return=541.144]"
     ]
    },
    {
     "name": "stdout",
     "output_type": "stream",
     "text": [
      "Episode 879.0: Goal reached!\n",
      "Episode 880.0: Goal reached!\n"
     ]
    },
    {
     "name": "stderr",
     "output_type": "stream",
     "text": [
      "Iteration 17:  64%|██████▍   | 32/50 [00:04<00:02,  6.51it/s, episode=1730, return=541.144]"
     ]
    },
    {
     "name": "stdout",
     "output_type": "stream",
     "text": [
      "Episode 881.0: Goal reached!\n",
      "Episode 882.0: Goal reached!\n"
     ]
    },
    {
     "name": "stderr",
     "output_type": "stream",
     "text": [
      "Iteration 17:  68%|██████▊   | 34/50 [00:05<00:02,  6.70it/s, episode=1730, return=541.144]"
     ]
    },
    {
     "name": "stdout",
     "output_type": "stream",
     "text": [
      "Episode 883.0: Goal reached!\n",
      "Episode 884.0: Goal reached!\n"
     ]
    },
    {
     "name": "stderr",
     "output_type": "stream",
     "text": [
      "Iteration 17:  72%|███████▏  | 36/50 [00:05<00:02,  6.90it/s, episode=1730, return=541.144]"
     ]
    },
    {
     "name": "stdout",
     "output_type": "stream",
     "text": [
      "Episode 885.0: Goal reached!\n",
      "Episode 886.0: Goal reached!\n"
     ]
    },
    {
     "name": "stderr",
     "output_type": "stream",
     "text": [
      "Iteration 17:  76%|███████▌  | 38/50 [00:05<00:01,  6.68it/s, episode=1730, return=541.144]"
     ]
    },
    {
     "name": "stdout",
     "output_type": "stream",
     "text": [
      "Episode 887.0: Goal reached!\n",
      "Episode 888.0: Goal reached!\n"
     ]
    },
    {
     "name": "stderr",
     "output_type": "stream",
     "text": [
      "Iteration 17:  80%|████████  | 40/50 [00:06<00:01,  6.86it/s, episode=1740, return=545.079]"
     ]
    },
    {
     "name": "stdout",
     "output_type": "stream",
     "text": [
      "Episode 889.0: Goal reached!\n",
      "Episode 890.0: Goal reached!\n"
     ]
    },
    {
     "name": "stderr",
     "output_type": "stream",
     "text": [
      "Iteration 17:  84%|████████▍ | 42/50 [00:06<00:01,  6.57it/s, episode=1740, return=545.079]"
     ]
    },
    {
     "name": "stdout",
     "output_type": "stream",
     "text": [
      "Episode 891.0: Goal reached!\n",
      "Episode 892.0: Goal reached!\n"
     ]
    },
    {
     "name": "stderr",
     "output_type": "stream",
     "text": [
      "Iteration 17:  88%|████████▊ | 44/50 [00:06<00:00,  6.90it/s, episode=1740, return=545.079]"
     ]
    },
    {
     "name": "stdout",
     "output_type": "stream",
     "text": [
      "Episode 893.0: Goal reached!\n",
      "Episode 894.0: Goal reached!\n"
     ]
    },
    {
     "name": "stderr",
     "output_type": "stream",
     "text": [
      "Iteration 17:  92%|█████████▏| 46/50 [00:06<00:00,  7.02it/s, episode=1740, return=545.079]"
     ]
    },
    {
     "name": "stdout",
     "output_type": "stream",
     "text": [
      "Episode 895.0: Goal reached!\n",
      "Episode 896.0: Goal reached!\n"
     ]
    },
    {
     "name": "stderr",
     "output_type": "stream",
     "text": [
      "Iteration 17:  96%|█████████▌| 48/50 [00:07<00:00,  7.13it/s, episode=1740, return=545.079]"
     ]
    },
    {
     "name": "stdout",
     "output_type": "stream",
     "text": [
      "Episode 897.0: Goal reached!\n",
      "Episode 898.0: Goal reached!\n"
     ]
    },
    {
     "name": "stderr",
     "output_type": "stream",
     "text": [
      "Iteration 17: 100%|██████████| 50/50 [00:07<00:00,  6.70it/s, episode=1750, return=543.134]\n"
     ]
    },
    {
     "name": "stdout",
     "output_type": "stream",
     "text": [
      "Episode 899.0: Goal reached!\n",
      "Episode 900.0: Goal reached!\n"
     ]
    },
    {
     "name": "stderr",
     "output_type": "stream",
     "text": [
      "Iteration 18:   4%|▍         | 2/50 [00:00<00:07,  6.37it/s]"
     ]
    },
    {
     "name": "stdout",
     "output_type": "stream",
     "text": [
      "Episode 901.0: Goal reached!\n",
      "Episode 902.0: Goal reached!\n"
     ]
    },
    {
     "name": "stderr",
     "output_type": "stream",
     "text": [
      "Iteration 18:   8%|▊         | 4/50 [00:00<00:06,  6.59it/s]"
     ]
    },
    {
     "name": "stdout",
     "output_type": "stream",
     "text": [
      "Episode 903.0: Goal reached!\n",
      "Episode 904.0: Goal reached!\n"
     ]
    },
    {
     "name": "stderr",
     "output_type": "stream",
     "text": [
      "Iteration 18:  12%|█▏        | 6/50 [00:00<00:06,  6.79it/s]"
     ]
    },
    {
     "name": "stdout",
     "output_type": "stream",
     "text": [
      "Episode 905.0: Goal reached!\n",
      "Episode 906.0: Goal reached!\n"
     ]
    },
    {
     "name": "stderr",
     "output_type": "stream",
     "text": [
      "Iteration 18:  16%|█▌        | 8/50 [00:01<00:06,  6.33it/s]"
     ]
    },
    {
     "name": "stdout",
     "output_type": "stream",
     "text": [
      "Episode 907.0: Goal reached!\n",
      "Episode 908.0: Goal reached!\n"
     ]
    },
    {
     "name": "stderr",
     "output_type": "stream",
     "text": [
      "Iteration 18:  20%|██        | 10/50 [00:01<00:06,  6.54it/s, episode=1810, return=540.453]"
     ]
    },
    {
     "name": "stdout",
     "output_type": "stream",
     "text": [
      "Episode 909.0: Goal reached!\n",
      "Episode 910.0: Goal reached!\n"
     ]
    },
    {
     "name": "stderr",
     "output_type": "stream",
     "text": [
      "Iteration 18:  22%|██▏       | 11/50 [00:01<00:05,  6.63it/s, episode=1810, return=540.453]"
     ]
    },
    {
     "name": "stdout",
     "output_type": "stream",
     "text": [
      "Episode 911.0: Goal reached!\n",
      "Episode 912.0: Goal reached!\n"
     ]
    },
    {
     "name": "stderr",
     "output_type": "stream",
     "text": [
      "Iteration 18:  26%|██▌       | 13/50 [00:02<00:05,  6.35it/s, episode=1810, return=540.453]"
     ]
    },
    {
     "name": "stdout",
     "output_type": "stream",
     "text": [
      "Episode 913.0: Goal reached!\n",
      "Episode 914.0: Goal reached!\n"
     ]
    },
    {
     "name": "stderr",
     "output_type": "stream",
     "text": [
      "Iteration 18:  32%|███▏      | 16/50 [00:02<00:05,  6.17it/s, episode=1810, return=540.453]"
     ]
    },
    {
     "name": "stdout",
     "output_type": "stream",
     "text": [
      "Episode 915.0: Goal reached!\n",
      "Episode 916.0: Goal reached!\n"
     ]
    },
    {
     "name": "stderr",
     "output_type": "stream",
     "text": [
      "Iteration 18:  36%|███▌      | 18/50 [00:02<00:05,  5.75it/s, episode=1810, return=540.453]"
     ]
    },
    {
     "name": "stdout",
     "output_type": "stream",
     "text": [
      "Episode 917.0: Goal reached!\n",
      "Episode 918.0: Goal reached!\n"
     ]
    },
    {
     "name": "stderr",
     "output_type": "stream",
     "text": [
      "Iteration 18:  40%|████      | 20/50 [00:03<00:05,  5.83it/s, episode=1820, return=544.206]"
     ]
    },
    {
     "name": "stdout",
     "output_type": "stream",
     "text": [
      "Episode 919.0: Goal reached!\n",
      "Episode 920.0: Goal reached!\n"
     ]
    },
    {
     "name": "stderr",
     "output_type": "stream",
     "text": [
      "Iteration 18:  44%|████▍     | 22/50 [00:03<00:04,  6.09it/s, episode=1820, return=544.206]"
     ]
    },
    {
     "name": "stdout",
     "output_type": "stream",
     "text": [
      "Episode 921.0: Goal reached!\n",
      "Episode 922.0: Goal reached!\n"
     ]
    },
    {
     "name": "stderr",
     "output_type": "stream",
     "text": [
      "Iteration 18:  48%|████▊     | 24/50 [00:03<00:04,  6.24it/s, episode=1820, return=544.206]"
     ]
    },
    {
     "name": "stdout",
     "output_type": "stream",
     "text": [
      "Episode 923.0: Goal reached!\n",
      "Episode 924.0: Goal reached!\n"
     ]
    },
    {
     "name": "stderr",
     "output_type": "stream",
     "text": [
      "Iteration 18:  52%|█████▏    | 26/50 [00:04<00:03,  6.33it/s, episode=1820, return=544.206]"
     ]
    },
    {
     "name": "stdout",
     "output_type": "stream",
     "text": [
      "Episode 925.0: Goal reached!\n",
      "Episode 926.0: Goal reached!\n"
     ]
    },
    {
     "name": "stderr",
     "output_type": "stream",
     "text": [
      "Iteration 18:  56%|█████▌    | 28/50 [00:04<00:03,  6.44it/s, episode=1820, return=544.206]"
     ]
    },
    {
     "name": "stdout",
     "output_type": "stream",
     "text": [
      "Episode 927.0: Goal reached!\n",
      "Episode 928.0: Goal reached!\n"
     ]
    },
    {
     "name": "stderr",
     "output_type": "stream",
     "text": [
      "Iteration 18:  60%|██████    | 30/50 [00:04<00:03,  6.63it/s, episode=1830, return=539.245]"
     ]
    },
    {
     "name": "stdout",
     "output_type": "stream",
     "text": [
      "Episode 929.0: Goal reached!\n",
      "Episode 930.0: Goal reached!\n"
     ]
    },
    {
     "name": "stderr",
     "output_type": "stream",
     "text": [
      "Iteration 18:  64%|██████▍   | 32/50 [00:05<00:02,  6.69it/s, episode=1830, return=539.245]"
     ]
    },
    {
     "name": "stdout",
     "output_type": "stream",
     "text": [
      "Episode 931.0: Goal reached!\n",
      "Episode 932.0: Goal reached!\n"
     ]
    },
    {
     "name": "stderr",
     "output_type": "stream",
     "text": [
      "Iteration 18:  68%|██████▊   | 34/50 [00:05<00:02,  6.68it/s, episode=1830, return=539.245]"
     ]
    },
    {
     "name": "stdout",
     "output_type": "stream",
     "text": [
      "Episode 933.0: Goal reached!\n",
      "Episode 934.0: Goal reached!\n"
     ]
    },
    {
     "name": "stderr",
     "output_type": "stream",
     "text": [
      "Iteration 18:  72%|███████▏  | 36/50 [00:05<00:02,  6.44it/s, episode=1830, return=539.245]"
     ]
    },
    {
     "name": "stdout",
     "output_type": "stream",
     "text": [
      "Episode 935.0: Goal reached!\n",
      "Episode 936.0: Goal reached!\n"
     ]
    },
    {
     "name": "stderr",
     "output_type": "stream",
     "text": [
      "Iteration 18:  76%|███████▌  | 38/50 [00:05<00:01,  6.42it/s, episode=1830, return=539.245]"
     ]
    },
    {
     "name": "stdout",
     "output_type": "stream",
     "text": [
      "Episode 937.0: Goal reached!\n",
      "Episode 938.0: Goal reached!\n"
     ]
    },
    {
     "name": "stderr",
     "output_type": "stream",
     "text": [
      "Iteration 18:  80%|████████  | 40/50 [00:06<00:01,  6.28it/s, episode=1840, return=536.258]"
     ]
    },
    {
     "name": "stdout",
     "output_type": "stream",
     "text": [
      "Episode 939.0: Goal reached!\n",
      "Episode 940.0: Goal reached!\n"
     ]
    },
    {
     "name": "stderr",
     "output_type": "stream",
     "text": [
      "Iteration 18:  84%|████████▍ | 42/50 [00:06<00:01,  6.40it/s, episode=1840, return=536.258]"
     ]
    },
    {
     "name": "stdout",
     "output_type": "stream",
     "text": [
      "Episode 941.0: Goal reached!\n",
      "Episode 942.0: Goal reached!\n"
     ]
    },
    {
     "name": "stderr",
     "output_type": "stream",
     "text": [
      "Iteration 18:  88%|████████▊ | 44/50 [00:06<00:00,  6.64it/s, episode=1840, return=536.258]"
     ]
    },
    {
     "name": "stdout",
     "output_type": "stream",
     "text": [
      "Episode 943.0: Goal reached!\n",
      "Episode 944.0: Goal reached!\n"
     ]
    },
    {
     "name": "stderr",
     "output_type": "stream",
     "text": [
      "Iteration 18:  90%|█████████ | 45/50 [00:07<00:00,  6.22it/s, episode=1840, return=536.258]"
     ]
    },
    {
     "name": "stdout",
     "output_type": "stream",
     "text": [
      "Episode 945.0: Goal reached!\n",
      "Episode 946.0: Goal reached!\n"
     ]
    },
    {
     "name": "stderr",
     "output_type": "stream",
     "text": [
      "Iteration 18:  96%|█████████▌| 48/50 [00:07<00:00,  5.86it/s, episode=1840, return=536.258]"
     ]
    },
    {
     "name": "stdout",
     "output_type": "stream",
     "text": [
      "Episode 947.0: Goal reached!\n",
      "Episode 948.0: Goal reached!\n"
     ]
    },
    {
     "name": "stderr",
     "output_type": "stream",
     "text": [
      "Iteration 18:  98%|█████████▊| 49/50 [00:07<00:00,  4.81it/s, episode=1840, return=536.258]"
     ]
    },
    {
     "name": "stdout",
     "output_type": "stream",
     "text": [
      "Episode 949.0: Goal reached!\n",
      "Episode 950.0: Goal reached!\n"
     ]
    },
    {
     "name": "stderr",
     "output_type": "stream",
     "text": [
      "Iteration 18: 100%|██████████| 50/50 [00:08<00:00,  6.15it/s, episode=1850, return=535.858]\n",
      "Iteration 19:   4%|▍         | 2/50 [00:00<00:08,  5.80it/s]"
     ]
    },
    {
     "name": "stdout",
     "output_type": "stream",
     "text": [
      "Episode 951.0: Goal reached!\n",
      "Episode 952.0: Goal reached!\n"
     ]
    },
    {
     "name": "stderr",
     "output_type": "stream",
     "text": [
      "Iteration 19:   8%|▊         | 4/50 [00:00<00:07,  5.96it/s]"
     ]
    },
    {
     "name": "stdout",
     "output_type": "stream",
     "text": [
      "Episode 953.0: Goal reached!\n",
      "Episode 954.0: Goal reached!\n"
     ]
    },
    {
     "name": "stderr",
     "output_type": "stream",
     "text": [
      "Iteration 19:  12%|█▏        | 6/50 [00:01<00:07,  5.79it/s]"
     ]
    },
    {
     "name": "stdout",
     "output_type": "stream",
     "text": [
      "Episode 955.0: Goal reached!\n",
      "Episode 956.0: Goal reached!\n"
     ]
    },
    {
     "name": "stderr",
     "output_type": "stream",
     "text": [
      "Iteration 19:  16%|█▌        | 8/50 [00:01<00:07,  5.92it/s]"
     ]
    },
    {
     "name": "stdout",
     "output_type": "stream",
     "text": [
      "Episode 957.0: Goal reached!\n",
      "Episode 958.0: Goal reached!\n"
     ]
    },
    {
     "name": "stderr",
     "output_type": "stream",
     "text": [
      "Iteration 19:  20%|██        | 10/50 [00:01<00:06,  5.89it/s, episode=1910, return=543.250]"
     ]
    },
    {
     "name": "stdout",
     "output_type": "stream",
     "text": [
      "Episode 959.0: Goal reached!\n",
      "Episode 960.0: Goal reached!\n"
     ]
    },
    {
     "name": "stderr",
     "output_type": "stream",
     "text": [
      "Iteration 19:  24%|██▍       | 12/50 [00:02<00:06,  6.30it/s, episode=1910, return=543.250]"
     ]
    },
    {
     "name": "stdout",
     "output_type": "stream",
     "text": [
      "Episode 961.0: Goal reached!\n",
      "Episode 962.0: Goal reached!\n"
     ]
    },
    {
     "name": "stderr",
     "output_type": "stream",
     "text": [
      "Iteration 19:  28%|██▊       | 14/50 [00:02<00:05,  6.66it/s, episode=1910, return=543.250]"
     ]
    },
    {
     "name": "stdout",
     "output_type": "stream",
     "text": [
      "Episode 963.0: Goal reached!\n",
      "Episode 964.0: Goal reached!\n"
     ]
    },
    {
     "name": "stderr",
     "output_type": "stream",
     "text": [
      "Iteration 19:  32%|███▏      | 16/50 [00:02<00:05,  6.54it/s, episode=1910, return=543.250]"
     ]
    },
    {
     "name": "stdout",
     "output_type": "stream",
     "text": [
      "Episode 965.0: Goal reached!\n",
      "Episode 966.0: Goal reached!\n"
     ]
    },
    {
     "name": "stderr",
     "output_type": "stream",
     "text": [
      "Iteration 19:  36%|███▌      | 18/50 [00:02<00:04,  6.58it/s, episode=1910, return=543.250]"
     ]
    },
    {
     "name": "stdout",
     "output_type": "stream",
     "text": [
      "Episode 967.0: Goal reached!\n",
      "Episode 968.0: Goal reached!\n"
     ]
    },
    {
     "name": "stderr",
     "output_type": "stream",
     "text": [
      "Iteration 19:  40%|████      | 20/50 [00:03<00:04,  6.71it/s, episode=1920, return=546.105]"
     ]
    },
    {
     "name": "stdout",
     "output_type": "stream",
     "text": [
      "Episode 969.0: Goal reached!\n",
      "Episode 970.0: Goal reached!\n"
     ]
    },
    {
     "name": "stderr",
     "output_type": "stream",
     "text": [
      "Iteration 19:  44%|████▍     | 22/50 [00:03<00:04,  6.20it/s, episode=1920, return=546.105]"
     ]
    },
    {
     "name": "stdout",
     "output_type": "stream",
     "text": [
      "Episode 971.0: Goal reached!\n",
      "Episode 972.0: Goal reached!\n"
     ]
    },
    {
     "name": "stderr",
     "output_type": "stream",
     "text": [
      "Iteration 19:  48%|████▊     | 24/50 [00:03<00:03,  6.72it/s, episode=1920, return=546.105]"
     ]
    },
    {
     "name": "stdout",
     "output_type": "stream",
     "text": [
      "Episode 973.0: Goal reached!\n",
      "Episode 974.0: Goal reached!\n"
     ]
    },
    {
     "name": "stderr",
     "output_type": "stream",
     "text": [
      "Iteration 19:  52%|█████▏    | 26/50 [00:04<00:03,  7.05it/s, episode=1920, return=546.105]"
     ]
    },
    {
     "name": "stdout",
     "output_type": "stream",
     "text": [
      "Episode 975.0: Goal reached!\n",
      "Episode 976.0: Goal reached!\n"
     ]
    },
    {
     "name": "stderr",
     "output_type": "stream",
     "text": [
      "Iteration 19:  56%|█████▌    | 28/50 [00:04<00:03,  6.55it/s, episode=1920, return=546.105]"
     ]
    },
    {
     "name": "stdout",
     "output_type": "stream",
     "text": [
      "Episode 977.0: Goal reached!\n",
      "Episode 978.0: Goal reached!\n"
     ]
    },
    {
     "name": "stderr",
     "output_type": "stream",
     "text": [
      "Iteration 19:  60%|██████    | 30/50 [00:04<00:03,  6.50it/s, episode=1930, return=540.212]"
     ]
    },
    {
     "name": "stdout",
     "output_type": "stream",
     "text": [
      "Episode 979.0: Goal reached!\n",
      "Episode 980.0: Goal reached!\n"
     ]
    },
    {
     "name": "stderr",
     "output_type": "stream",
     "text": [
      "Iteration 19:  64%|██████▍   | 32/50 [00:05<00:02,  6.62it/s, episode=1930, return=540.212]"
     ]
    },
    {
     "name": "stdout",
     "output_type": "stream",
     "text": [
      "Episode 981.0: Goal reached!\n",
      "Episode 982.0: Goal reached!\n"
     ]
    },
    {
     "name": "stderr",
     "output_type": "stream",
     "text": [
      "Iteration 19:  68%|██████▊   | 34/50 [00:05<00:02,  6.64it/s, episode=1930, return=540.212]"
     ]
    },
    {
     "name": "stdout",
     "output_type": "stream",
     "text": [
      "Episode 983.0: Goal reached!\n",
      "Episode 984.0: Goal reached!\n"
     ]
    },
    {
     "name": "stderr",
     "output_type": "stream",
     "text": [
      "Iteration 19:  72%|███████▏  | 36/50 [00:05<00:02,  6.32it/s, episode=1930, return=540.212]"
     ]
    },
    {
     "name": "stdout",
     "output_type": "stream",
     "text": [
      "Episode 985.0: Goal reached!\n",
      "Episode 986.0: Goal reached!\n"
     ]
    },
    {
     "name": "stderr",
     "output_type": "stream",
     "text": [
      "Iteration 19:  76%|███████▌  | 38/50 [00:05<00:01,  6.46it/s, episode=1930, return=540.212]"
     ]
    },
    {
     "name": "stdout",
     "output_type": "stream",
     "text": [
      "Episode 987.0: Goal reached!\n",
      "Episode 988.0: Goal reached!\n"
     ]
    },
    {
     "name": "stderr",
     "output_type": "stream",
     "text": [
      "Iteration 19:  80%|████████  | 40/50 [00:06<00:01,  6.15it/s, episode=1940, return=535.117]"
     ]
    },
    {
     "name": "stdout",
     "output_type": "stream",
     "text": [
      "Episode 989.0: Goal reached!\n",
      "Episode 990.0: Goal reached!\n"
     ]
    },
    {
     "name": "stderr",
     "output_type": "stream",
     "text": [
      "Iteration 19:  84%|████████▍ | 42/50 [00:06<00:01,  6.08it/s, episode=1940, return=535.117]"
     ]
    },
    {
     "name": "stdout",
     "output_type": "stream",
     "text": [
      "Episode 991.0: Goal reached!\n",
      "Episode 992.0: Goal reached!\n"
     ]
    },
    {
     "name": "stderr",
     "output_type": "stream",
     "text": [
      "Iteration 19:  86%|████████▌ | 43/50 [00:06<00:01,  6.02it/s, episode=1940, return=535.117]"
     ]
    },
    {
     "name": "stdout",
     "output_type": "stream",
     "text": [
      "Episode 993.0: Goal reached!\n",
      "Episode 994.0: Goal reached!\n"
     ]
    },
    {
     "name": "stderr",
     "output_type": "stream",
     "text": [
      "Iteration 19:  92%|█████████▏| 46/50 [00:07<00:00,  5.95it/s, episode=1940, return=535.117]"
     ]
    },
    {
     "name": "stdout",
     "output_type": "stream",
     "text": [
      "Episode 995.0: Goal reached!\n",
      "Episode 996.0: Goal reached!\n"
     ]
    },
    {
     "name": "stderr",
     "output_type": "stream",
     "text": [
      "Iteration 19:  96%|█████████▌| 48/50 [00:07<00:00,  5.95it/s, episode=1940, return=535.117]"
     ]
    },
    {
     "name": "stdout",
     "output_type": "stream",
     "text": [
      "Episode 997.0: Goal reached!\n",
      "Episode 998.0: Goal reached!\n"
     ]
    },
    {
     "name": "stderr",
     "output_type": "stream",
     "text": [
      "Iteration 19: 100%|██████████| 50/50 [00:08<00:00,  6.24it/s, episode=1950, return=540.057]"
     ]
    },
    {
     "name": "stdout",
     "output_type": "stream",
     "text": [
      "Episode 999.0: Goal reached!\n",
      "Episode 1000.0: Goal reached!\n"
     ]
    },
    {
     "name": "stderr",
     "output_type": "stream",
     "text": [
      "\n"
     ]
    },
    {
     "data": {
      "image/png": "[encoded data removed]",
      "text/plain": [
       "<Figure size 1200x800 with 1 Axes>"
      ]
     },
     "metadata": {},
     "output_type": "display_data"
    },
    {
     "data": {
      "image/png": "[encoded data removed]",
      "text/plain": [
       "<Figure size 640x480 with 1 Axes>"
      ]
     },
     "metadata": {},
     "output_type": "display_data"
    }
   ],
   "source": [
    "if __name__ == \"__main__\":\n",
    "    def moving_average(a, window_size):\n",
    "        ''' 生成序列 a 的滑动平均序列 '''\n",
    "        # 计算滑动平均，平滑序列（如回合回报），便于绘图时观察趋势\n",
    "        # 参数：a（输入序列，如回报列表），window_size（窗口大小，后续设为 29）\n",
    "        cumulative_sum = np.cumsum(np.insert(a, 0, 0))\n",
    "        # 计算累积和，插入 0 便于差分计算窗口平均值\n",
    "        middle = (cumulative_sum[window_size:] - cumulative_sum[:-window_size]) / window_size\n",
    "        # 中间部分：通过累积和差分计算窗口平均值\n",
    "        r = np.arange(1, window_size-1, 2)\n",
    "        # 生成奇数序列 [1, 3, 5, ...]，用于处理开头和结尾的小窗口\n",
    "        begin = np.cumsum(a[:window_size-1])[::2] / r\n",
    "        # 开头部分：计算前 window_size-1 个元素的小窗口平均值\n",
    "        end = (np.cumsum(a[:-window_size:-1])[::2] / r)[::-1]\n",
    "        # 结尾部分：计算最后 window_size-1 个元素的反向小窗口平均值，翻转对齐\n",
    "        return np.concatenate((begin, middle, end))\n",
    "        # 拼接开头、中间、结尾，返回等长滑动平均序列\n",
    "\n",
    "    def set_seed(env, seed=50):\n",
    "        ''' 设置随机种子 '''\n",
    "        # 设置随机种子，确保环境和算法行为一致，实验可重复\n",
    "        env.action_space.seed(seed)\n",
    "        # 为动作空间设置种子，确保动作采样一致\n",
    "        env.reset(seed=seed)\n",
    "        # 重置环境，应用种子，确保初始状态一致\n",
    "        random.seed(seed)\n",
    "        # 设置 Python random 模块种子，用于随机动作选择\n",
    "        np.random.seed(seed)\n",
    "        # 设置 NumPy 随机种子，用于数组操作和采样\n",
    "        torch.manual_seed(seed)\n",
    "        # 设置 PyTorch 种子，确保神经网络初始化和训练一致\n",
    "\n",
    "    state_dim = 4                               # 环境观测维度\n",
    "    # 状态维度为 4，对应 RollingBall 环境的观测 [x_position, y_position, x_velocity, y_velocity]\n",
    "    action_dim = 1                              # 环境动作维度\n",
    "    action_bins = 10                            # 动作离散 bins 数量\n",
    "    action_range = action_bins * action_bins    # 环境动作空间大小\n",
    "    hidden_dim = 32                             # 神经网络隐藏层大小\n",
    "    # 学习率不建议太大，很难收敛\n",
    "    lr = 0.001                                   # 学习率\n",
    "    num_episodes = 1000                         # 总训练回合数\n",
    "    gamma = 0.99                                # 折扣因子\n",
    "    epsilon_start = 0.2                       # 初始探索率\n",
    "    epsilon_end = 0.01                        # 最终探索率\n",
    "    tau = 0.001                        # 目标网络更新参数\n",
    "    buffer_size = 10000                         # 回放缓冲区容量\n",
    "    minimal_size = 5000                         # 训练前最小缓冲区大小\n",
    "    batch_size = 128                            # 批量大小\n",
    "    device = torch.device(\"cuda\") if torch.cuda.is_available() else torch.device(\"cpu\")\n",
    "    # 优先使用 GPU（CUDA），否则使用 CPU，加速神经网络计算\n",
    "\n",
    "    # 构建环境\n",
    "    env = RollingBall(width=5, height=5, show_epi=True)\n",
    "    # 创建 5x5 的 RollingBall 环境，显示小球轨迹\n",
    "    # 参考 GridWorld.py：\n",
    "    # - 初始位置：(1, 1)（0.2 * 5）\n",
    "    # - 目标位置：(4, 4)（0.8 * 5）\n",
    "    # - 奖励：每步 -2.0，撞墙 -10.0，目标 +300.0\n",
    "    # - 动作空间：Box([-0.1, 0.1], shape=(2,))，x 和 y 方向的力\n",
    "    # - 观测空间：Box([0, 0, -5, -5], [5, 5, 5, 5])，[x, y, vx, vy]\n",
    "    env = FlattenActionSpaceWrapper(DiscreteActionWrapper(env, bins=10))\n",
    "    # 包装动作空间：\n",
    "    # 1. DiscreteActionWrapper（参考 Hashposotion.py）：\n",
    "    #    - 将连续动作离散化为 MultiDiscrete([10, 10])\n",
    "    #    - 每个维度 10 个 bins，映射到 [-1, 1]，步长 0.2\n",
    "    # 2. FlattenActionSpaceWrapper：\n",
    "    #    - 展平为 Discrete(100)，动作索引 0-99\n",
    "    env = TimeLimit(env, 100)\n",
    "    # 限制每回合最大 100 步，超限返回 truncated=True\n",
    "    check_env(env.unwrapped)\n",
    "    # 检查原始 RollingBall 环境是否符合 Gym 规范\n",
    "    set_seed(env, seed=42)\n",
    "    # 设置环境随机种子，确保一致性\n",
    "\n",
    "    # 构建代理和回放缓冲区\n",
    "    replay_buffer = ReplayBuffer(buffer_size)\n",
    "    # 创建回放缓冲区，容量 10000，存储经验 (state, action, reward, next_state, done)\n",
    "    agent = DoubleDQN(state_dim, hidden_dim, action_dim, action_range, lr, gamma, epsilon_start, tau, device)\n",
    "    # 创建 DoubleDQN 代理（假设 DoubleDQN 类已定义）\n",
    "    # 配置：4 维状态输入，100 个动作输出，32 单元隐藏层，学习率 0.001，折扣因子 0.99\n",
    "    # 功能：epsilon-greedy 动作选择，Q 网络更新，目标网络定期同步\n",
    "\n",
    "    # 随机动作填充回放缓冲区\n",
    "    state, _ = env.reset()\n",
    "    # 重置环境，获取初始状态\n",
    "    while replay_buffer.size() <= minimal_size:\n",
    "        action = env.action_space.sample()\n",
    "        # 随机选择动作（0-99）\n",
    "        next_state, reward, terminated, truncated, _ = env.step(action)\n",
    "        # 执行动作，获取下一状态、奖励、终止标志等\n",
    "        replay_buffer.add(state, action, reward, next_state, done=terminated or truncated)\n",
    "        # 存储经验，done 表示回合是否结束\n",
    "        state = next_state\n",
    "        # 更新状态\n",
    "        if terminated or truncated:\n",
    "            env.render()\n",
    "            # 回合结束时渲染，显示小球轨迹\n",
    "            state, _ = env.reset()\n",
    "            # 重置环境\n",
    "        #print(replay_buffer.size())\n",
    "        # （注释掉）可打印缓冲区大小，监控填充进度\n",
    "\n",
    "    # 开始训练\n",
    "    return_list = []\n",
    "    # 存储每回合总回报\n",
    "    max_q_value_list = []\n",
    "    # 存储平滑的最大 Q 值\n",
    "    max_q_value = 0\n",
    "    # 用于平滑 Q 值的初始值\n",
    "    for i in range(20):\n",
    "        # 分 20 次迭代，每迭代 50 回合，共 1000 回合\n",
    "        with tqdm(total=int(num_episodes / 20), desc='Iteration %d' % i) as pbar:\n",
    "            # 使用 tqdm 显示进度条\n",
    "            for i_episode in range(int(num_episodes / 20)):\n",
    "                # 每迭代 50 回合\n",
    "                episode_return = 0\n",
    "                # 初始化回合回报\n",
    "                state, _ = env.reset()\n",
    "                # 重置环境\n",
    "                while True:\n",
    "                    # 计算并平滑最大 Q 值\n",
    "                    max_q_value = agent.max_q_value_of_given_state(state) * 0.005 + max_q_value * 0.995\n",
    "                    # 使用指数平滑，权重 0.005（新值）和 0.995（旧值）\n",
    "                    max_q_value_list.append(max_q_value)\n",
    "                    # 记录 Q 值\n",
    "\n",
    "                    # 选择并执行动作\n",
    "                    action = agent.take_action(state)\n",
    "                    # 使用 epsilon-greedy 策略选择动作\n",
    "                    next_state, reward, terminated, truncated, _ = env.step(action)\n",
    "                    # 执行动作，获取结果\n",
    "\n",
    "                    # 更新回放缓冲区\n",
    "                    replay_buffer.add(state, action, reward, next_state, done=terminated or truncated)\n",
    "                    # 存储新经验\n",
    "\n",
    "                    # 训练 Q 网络\n",
    "                    assert replay_buffer.size() > minimal_size\n",
    "                    # 确保缓冲区足够大\n",
    "                    b_s, b_a, b_r, b_ns, b_d = replay_buffer.sample(batch_size)\n",
    "                    # 采样 128 条经验\n",
    "                    transition_dict = {\n",
    "                        'states': b_s,\n",
    "                        'actions': b_a,\n",
    "                        'next_states': b_ns,\n",
    "                        'rewards': b_r,\n",
    "                        'dones': b_d\n",
    "                    }\n",
    "                    # 组织批量数据\n",
    "                    agent.update(transition_dict)\n",
    "                    # 更新 Q 网络，计算 Q 学习损失并优化\n",
    "\n",
    "                    state = next_state\n",
    "                    # 更新状态\n",
    "                    episode_return += reward\n",
    "                    # 累加回报\n",
    "\n",
    "                    if terminated or truncated:\n",
    "                        env.render()\n",
    "                        # 回合结束时渲染\n",
    "                        if terminated:\n",
    "                            print(f\"Episode {num_episodes / 20 * i + i_episode + 1}: Goal reached!\")   \n",
    "                        break\n",
    "                    #env.render()\n",
    "                    # （注释掉）可每步渲染，但会减慢训练\n",
    "\n",
    "                return_list.append(episode_return)\n",
    "                # 记录回合回报\n",
    "                if (i_episode + 1) % 10 == 0:\n",
    "                    pbar.set_postfix({\n",
    "                        'episode': '%d' % (num_episodes / 10 * i + i_episode + 1),\n",
    "                        'return': '%.3f' % np.mean(return_list[-10:])\n",
    "                    })\n",
    "                    # 每 10 回合更新进度条，显示回合数和最近 10 次平均回报\n",
    "                pbar.update(1)\n",
    "                # 更新进度条\n",
    "\n",
    "        #env.render()\n",
    "        # （注释掉）迭代结束时可渲染\n",
    "        agent.epsilon += (epsilon_end - epsilon_start) / 10\n",
    "        # 调整 epsilon，注意：应为衰减，可能需改为 agent.epsilon = epsilon_start + (epsilon_end - epsilon_start) * i / 19\n",
    "    env.close()\n",
    "    # 显示训练结果\n",
    "    mv_return_list = moving_average(return_list, 29)\n",
    "    # 计算 29 步滑动平均回报\n",
    "    episodes_list = list(range(len(return_list)))\n",
    "    # 生成回合索引\n",
    "    plt.figure(figsize=(12,8))\n",
    "    # 创建 12x8 英寸画布\n",
    "    plt.plot(episodes_list, return_list, label='raw', alpha=0.5)\n",
    "    # 绘制原始回报，半透明\n",
    "    plt.plot(episodes_list, mv_return_list, label='moving ave')\n",
    "    # 绘制平滑回报\n",
    "    plt.xlabel('Episodes')\n",
    "    plt.ylabel('Returns')\n",
    "    plt.title(f'{agent._get_name()} on RollingBall')\n",
    "    # 设置标题，包含代理名称（如 DQN）\n",
    "    plt.legend()\n",
    "    # 显示图例\n",
    "    plt.savefig(f'./result/{agent._get_name()}.png')\n",
    "    # 保存回报曲线\n",
    "    plt.show()\n",
    "    # 显示图像\n",
    "    # 显示最大 Q 值\n",
    "    frames_list = list(range(len(max_q_value_list)))\n",
    "    # 生成帧索引\n",
    "    plt.plot(frames_list, max_q_value_list)\n",
    "    # 绘制平滑 Q 值曲线\n",
    "    plt.axhline(max(max_q_value_list), c='orange', ls='--')\n",
    "    # 标记最大 Q 值\n",
    "    plt.xlabel('Frames')\n",
    "    plt.ylabel('Max Q_value')\n",
    "    plt.title(f'{agent._get_name()} on RollingBall')\n",
    "    # 设置标题\n",
    "    plt.savefig(f'./result/{agent._get_name()}_MaxQ.png')\n",
    "    # 保存 Q 值曲线\n",
    "    plt.show()\n",
    "    # 显示图像"
   ]
  }
 ],
 "metadata": {
  "kernelspec": {
   "display_name": "DL_pytorch_gpu",
   "language": "python",
   "name": "python3"
  },
  "language_info": {
   "codemirror_mode": {
    "name": "ipython",
    "version": 3
   },
   "file_extension": ".py",
   "mimetype": "text/x-python",
   "name": "python",
   "nbconvert_exporter": "python",
   "pygments_lexer": "ipython3",
   "version": "3.9.21"
  }
 },
 "nbformat": 4,
 "nbformat_minor": 5
}
